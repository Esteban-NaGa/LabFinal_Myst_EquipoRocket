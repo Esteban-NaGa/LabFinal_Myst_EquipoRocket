{
 "cells": [
  {
   "cell_type": "markdown",
   "metadata": {},
   "source": [
    "## Laboratorio Final - Equipo Rocket"
   ]
  },
  {
   "cell_type": "markdown",
   "metadata": {},
   "source": [
    "___\n",
    "<img style=\"float: right; margin: 0px 0px 15px 15px;\" src=\"https://www.carrerasenlinea.mx/logos/original/logo-instituto-tecnologico-y-de-estudios-superiores-de-occidente.png\" width=\"150px\" height=\"100px\" />\n",
    "\n",
    "# Microestructuras y Sistemas de Trading\n",
    "### Equipo ROCKET\n",
    "\n",
    "## <font color=\"navy\">  \"PROYECTO FINAL\"\n",
    "    \n",
    "* <font color=\"black\">**INTEGRANTE 1 :**</font> Alejandro Preciado G\n",
    "* <font color=\"black\">**INTEGRANTE 2 :**</font> Luis Ontaneda\n",
    "* <font color=\"black\">**INTEGRANTE 3 :**</font> Esteban Navarrete\n",
    "* <font color=\"black\">**INTEGRANTE 4 :**</font> Pablo Vargas"
   ]
  },
  {
   "cell_type": "markdown",
   "metadata": {},
   "source": [
    "### Propósito:\n",
    "\n",
    "Diseñar una estrategia de trading con base a la reacción del precio ante el comunicado de indicadores macroeconómicos (Análisis fundamental).\n",
    "\n",
    "#### Requisitos generales:\n",
    "\n",
    "· Capital inicial: $100,000\n",
    "\n",
    "· Riesgo por operación: $1,000"
   ]
  },
  {
   "cell_type": "code",
   "execution_count": 619,
   "metadata": {},
   "outputs": [],
   "source": [
    "import numpy as np\n",
    "import pandas as pd\n",
    "import plotly.graph_objs as go\n",
    "from plotly.subplots import make_subplots\n",
    "from plotly.offline import download_plotlyjs, init_notebook_mode, plot, iplot\n",
    "import plotly.offline as py\n",
    "from collections import Counter\n",
    "import matplotlib.pyplot as plt\n",
    "import plotly.graph_objects as go\n",
    "from plotly.subplots import make_subplots\n",
    "import datetime as dt\n",
    "import warnings\n",
    "warnings.filterwarnings(\"ignore\")\n",
    "from collections import Counter\n",
    "import Boxplot as bx"
   ]
  },
  {
   "cell_type": "code",
   "execution_count": 620,
   "metadata": {},
   "outputs": [],
   "source": [
    "#Cargamos los datos, y eliminamos los que no tienen valor\n",
    "df = pd.read_csv(\"calendario_economico.csv\") \n",
    "df.dropna(inplace = True)"
   ]
  },
  {
   "cell_type": "code",
   "execution_count": 621,
   "metadata": {},
   "outputs": [],
   "source": [
    "data2=df.loc[df['Name'] == 'Retail Sales (MoM)']\n",
    "RetailSales=data2.loc[df['Country'] == 'European Monetary Union']\n",
    "RetailSales=RetailSales.reset_index(drop=True)"
   ]
  },
  {
   "cell_type": "code",
   "execution_count": 622,
   "metadata": {},
   "outputs": [],
   "source": [
    "RetailSales['timestamp']=pd.to_datetime(RetailSales['timestamp'])\n",
    "RetailSales['timestamp']=RetailSales['timestamp'].dt.tz_localize('UTC')"
   ]
  },
  {
   "cell_type": "code",
   "execution_count": 623,
   "metadata": {},
   "outputs": [],
   "source": [
    "prueba = RetailSales[(RetailSales['timestamp'] > '2018-1-1 00:00:00') & \n",
    "                     (RetailSales['timestamp'] <= '2018-8-1 00:00:00')]\n",
    "\n",
    "entrenamiento = RetailSales[(RetailSales['timestamp'] > '2009-5-1 00:00:00') & \n",
    "                     (RetailSales['timestamp'] <= '2017-12-1 00:00:00')]\n",
    "prueba = prueba.reset_index(drop=True)\n",
    "entrenamiento = entrenamiento.reset_index(drop=True)"
   ]
  },
  {
   "cell_type": "code",
   "execution_count": 624,
   "metadata": {},
   "outputs": [],
   "source": [
    "#definimos escenarios por restricciones\n",
    "def escenario(x):\n",
    "    x['escenario']= x['actual']\n",
    "    for i in range(len(x)):\n",
    "        if x['actual'][i] >= x['consensus'][i] >= x['previous'][i]:\n",
    "            x['escenario'][i] = \"A\"\n",
    "        elif x['actual'][i] >= x['consensus'][i] < x['previous'][i]:\n",
    "            x['escenario'][i]=\"B\"\n",
    "        elif x['actual'][i] < x['consensus'][i] >= x['previous'][i]:\n",
    "            x['escenario'][i]=\"C\"\n",
    "        elif x['actual'][i] < x['consensus'][i] < x['previous'][i]:\n",
    "            x['escenario'][i]=\"D\"\n",
    "    return x\n",
    "    "
   ]
  },
  {
   "cell_type": "code",
   "execution_count": 625,
   "metadata": {},
   "outputs": [],
   "source": [
    "def periodos(df,RS):\n",
    "    # Cargamos los datos de los precios del Euro-Dolar\n",
    "    # Checando valores en precios EUR/USD con misma hora que nuestro calendario económico\n",
    "    # Data frame con los valores que coinciden las horas\n",
    "    comparacionRS=df[df.timestamp.isin(RS.timestamp)]\n",
    "    # Utilizamos compresión de listas para sacar un DataFrame de los indicadores para hacer match entre los comunicados del\n",
    "    # indicador y los precios\n",
    "    #Se busca desde la fecha y hora del indicador agarrar los precios de 30 minutos antes y 30 minutos despues (mas menos 6 periodos)\n",
    "    periodosRS = [df.iloc[i-6:i+7]for i in comparacionRS.index]\n",
    "    return periodosRS"
   ]
  },
  {
   "cell_type": "code",
   "execution_count": 626,
   "metadata": {},
   "outputs": [],
   "source": [
    "def takeprofit(escenario):\n",
    "    para=(RSescenarios[escenario]['pips alcistas'].max()*0.85-RSescenarios[escenario]['pips alcistas'].min()*1.15)/2\n",
    "    takeprofitesc=RSescenarios[escenario]['pips alcistas'].min()*1.15+para\n",
    "    return takeprofitesc\n",
    "def StopLoss(escenario):\n",
    "    para=(RSescenarios[escenario]['pips bajistas'].max()*0.85-RSescenarios[escenario]['pips bajistas'].min()*1.15)/2\n",
    "    takeprofitesc=RSescenarios[escenario]['pips bajistas'].min()*1.15+para\n",
    "    return takeprofitesc"
   ]
  },
  {
   "cell_type": "code",
   "execution_count": 627,
   "metadata": {},
   "outputs": [],
   "source": [
    "# Con esta función se saca dirección, pips alcistas, pips bajistas y volatilidad de los precios de cada comunicado del indicador\n",
    "# Se le mete el DataFrame de los comunicados de nuestro indicador y el match de los precios con el indicador\n",
    "def finalDF(DataFrame,periodos):\n",
    "\n",
    "    DataFrame['direccion']= DataFrame['actual']\n",
    "    DataFrame['pips alcistas']=DataFrame['actual']\n",
    "    DataFrame['pips bajistas']= DataFrame['actual']\n",
    "    DataFrame['volatilidad']=DataFrame['actual']\n",
    "\n",
    "    for i in range(len(DataFrame)):\n",
    "        if periodos[i][\"close\"].iloc[-1] > periodos[i][\"open\"].iloc[6]:\n",
    "            DataFrame['direccion'][i] = 1\n",
    "        else:\n",
    "            DataFrame['direccion'][i] = -1\n",
    "                \n",
    "        DataFrame['pips alcistas'][i] = (periodos[i][\"high\"].iloc[6:].max() - periodos[i][\"open\"].iloc[6])*10000\n",
    "        DataFrame['pips bajistas'][i] = (periodos[i][\"open\"].iloc[6] - periodos[i][\"low\"].iloc[6:].min())*10000\n",
    "        DataFrame['volatilidad'][i] = periodos[i][\"high\"].max()-periodos[i][\"low\"].min()\n",
    "    return DataFrame\n",
    "\n",
    "\n"
   ]
  },
  {
   "cell_type": "code",
   "execution_count": 628,
   "metadata": {},
   "outputs": [],
   "source": [
    "# Sacando cuales informes pertenecen dependiendo de escenario A, B, y C para checar comportamiento\n",
    "def getescenario(DF):\n",
    "    escA=DF[DF.escenario.isin([\"A\"])]\n",
    "    escB=DF[DF.escenario.isin([\"B\"])]\n",
    "    escC=DF[DF.escenario.isin([\"C\"])]\n",
    "    escD=DF[DF.escenario.isin([\"D\"])]\n",
    "    return escA,escB,escC,escD\n",
    "\n"
   ]
  },
  {
   "cell_type": "code",
   "execution_count": 629,
   "metadata": {},
   "outputs": [
    {
     "ename": "SyntaxError",
     "evalue": "'return' outside function (<ipython-input-629-7ac7d32a4bae>, line 32)",
     "output_type": "error",
     "traceback": [
      "\u001b[0;36m  File \u001b[0;32m\"<ipython-input-629-7ac7d32a4bae>\"\u001b[0;36m, line \u001b[0;32m32\u001b[0m\n\u001b[0;31m    return df_backtest\u001b[0m\n\u001b[0m                      ^\u001b[0m\n\u001b[0;31mSyntaxError\u001b[0m\u001b[0;31m:\u001b[0m 'return' outside function\n"
     ]
    }
   ],
   "source": [
    "def backtest(pruebabacktest,pruebaper,escenarios,df_decisiones):\n",
    "    df_backtest=pd.DataFrame(np.zeros([len(pruebabacktest),8]),columns=[\"timestamp\",\"escenario\",\"operacion\",\"volumen\",\"resultado\",\"pips\",\n",
    "                                                       \"capital\",\"balance final\"])\n",
    "    for i in range(len(pruebaper)):\n",
    "        for e in range(len(escenarios)):\n",
    "            if FinalDFRS[\"escenario\"][i]==escenarios[e]:\n",
    "                for j in range(int(len(pruebaper[i])/2),len(pruebaper[i])):\n",
    "                    df_backtest[\"timestamp\"][i] = pruebaper[i].iloc[j,0]\n",
    "                    df_backtest[\"escenario\"][i] = escenarios[e]\n",
    "                    df_backtest[\"operacion\"][i] = df_decisiones[\"operacion\"][e]\n",
    "                    df_backtest[\"volumen\"][i] = df_decisiones.unidades[e]\n",
    "                    if pruebaper[i].iloc[j,1]-df_decisiones.sl[e]/10000 >= pruebaper[i].iloc[j,3]:\n",
    "                        df_backtest[\"resultado\"][i] = \"perdida\"\n",
    "                        df_backtest[\"pips\"][i] = -df_decisiones.sl[e]\n",
    "                        df_backtest[\"capital\"][i] = (-df_decisiones.sl[e]/10000)*df_decisiones.unidades[e]\n",
    "\n",
    "                        break\n",
    "                    elif pruebaper[i].iloc[j,1]+df_decisiones.tp[e]/10000 <= pruebaper[i].iloc[j,2]:\n",
    "                        df_backtest[\"resultado\"][i] = \"ganada\"\n",
    "                        df_backtest[\"pips\"][i] = df_decisiones.tp[e]\n",
    "                        df_backtest[\"capital\"][i] = (df_decisiones.tp[e]/10000)*df_decisiones.unidades[e]\n",
    "\n",
    "                        break\n",
    "                    else:\n",
    "                        df_backtest[\"resultado\"][i] = \"No se cumplio\"\n",
    "                        break\n",
    "\n",
    "    df_backtest[\"balance final\"][0] = 100000+df_backtest[\"capital\"][0]   \n",
    "    for i in range(1,len(df_backtest)):\n",
    "        df_backtest[\"balance final\"][i] = df_backtest[\"balance final\"][i-1]+df_backtest[\"capital\"][i]            \n",
    "\n",
    "return df_backtest\n"
   ]
  },
  {
   "cell_type": "code",
   "execution_count": 630,
   "metadata": {},
   "outputs": [],
   "source": [
    "# utilizamos la función escenario para obtener cada comunicado del indicador económico si es A, B, C ó D dependiendo del actual,\n",
    "# previous y consensus.\n",
    "RS=escenario(entrenamiento)"
   ]
  },
  {
   "cell_type": "code",
   "execution_count": 631,
   "metadata": {},
   "outputs": [],
   "source": [
    "df = pd.read_csv(\"precios_historicos_eurusd.csv\") \n",
    "df['timestamp']=pd.to_datetime(df['timestamp'])\n",
    "df['timestamp']=df['timestamp'].dt.tz_localize('UTC')\n",
    "pruebaper = df[(df['timestamp'] > '2018-1-1 00:00:00') & \n",
    "                     (df['timestamp'] <= '2018-8-1 00:00:00')]\n",
    "pruebaper = pruebaper.reset_index(drop=True)\n",
    "df = df[(df['timestamp'] > '2009-5-1 00:00:00') & \n",
    "                     (df['timestamp'] <= '2017-12-1 00:00:00')]\n",
    "df = df.reset_index(drop=True)"
   ]
  },
  {
   "cell_type": "code",
   "execution_count": 632,
   "metadata": {},
   "outputs": [],
   "source": [
    "trainper = periodos(df,entrenamiento)\n",
    "pruebaper = periodos(pruebaper,prueba)"
   ]
  },
  {
   "cell_type": "code",
   "execution_count": 633,
   "metadata": {},
   "outputs": [],
   "source": [
    "# utilizamos la funcion finalDF() para obtener nuestro DataFrame final en retail sales.\n",
    "FinalDFRS = finalDF(RS,trainper)\n",
    "pruebabacktest = finalDF(escenario(prueba),prper)"
   ]
  },
  {
   "cell_type": "code",
   "execution_count": 634,
   "metadata": {},
   "outputs": [],
   "source": [
    "takeProfitC = [takeprofit(i) for i in range(4)]\n",
    "StopLossC = [StopLoss(i) for i in range(4)]\n",
    "takeProfitV = StopLossC\n",
    "StopLossV = takeProfitC"
   ]
  },
  {
   "cell_type": "code",
   "execution_count": 635,
   "metadata": {},
   "outputs": [],
   "source": [
    "escenarios=[\"A\",\"B\",\"C\",\"D\"]\n",
    "promalcistas=[FinalDFRS.loc[FinalDFRS[\"escenario\"] == i][\"pips alcistas\"].mean() for i in escenarios]\n",
    "prombajistas=[FinalDFRS.loc[FinalDFRS[\"escenario\"] == i][\"pips bajistas\"].mean() for i in escenarios]"
   ]
  },
  {
   "cell_type": "code",
   "execution_count": 636,
   "metadata": {},
   "outputs": [],
   "source": [
    "df_decisiones=pd.DataFrame({\"escenario\":escenarios})\n",
    "df_decisiones[\"operacion\"]=[\"compra\" if promalcistas[i]>prombajistas[i] else \"venta\" for i in range(len(escenarios))]\n",
    "df_decisiones[\"sl\"]=[StopLossC[i] if df_decisiones[\"operacion\"][i]==\"compra\" else takeProfitC[i] \n",
    "                  for i in range(len(escenarios))]\n",
    "df_decisiones[\"tp\"]=[takeProfitC[i] if df_decisiones[\"operacion\"][i]==\"compra\" else StopLossC[i] \n",
    "                  for i in range(len(escenarios))]\n",
    "df_decisiones[\"unidades\"]=[855615,852515,943619,749344]"
   ]
  },
  {
   "cell_type": "code",
   "execution_count": 637,
   "metadata": {},
   "outputs": [
    {
     "data": {
      "text/html": [
       "<div>\n",
       "<style scoped>\n",
       "    .dataframe tbody tr th:only-of-type {\n",
       "        vertical-align: middle;\n",
       "    }\n",
       "\n",
       "    .dataframe tbody tr th {\n",
       "        vertical-align: top;\n",
       "    }\n",
       "\n",
       "    .dataframe thead th {\n",
       "        text-align: right;\n",
       "    }\n",
       "</style>\n",
       "<table border=\"1\" class=\"dataframe\">\n",
       "  <thead>\n",
       "    <tr style=\"text-align: right;\">\n",
       "      <th></th>\n",
       "      <th>escenario</th>\n",
       "      <th>cantidad</th>\n",
       "    </tr>\n",
       "  </thead>\n",
       "  <tbody>\n",
       "    <tr>\n",
       "      <th>0</th>\n",
       "      <td>C</td>\n",
       "      <td>27</td>\n",
       "    </tr>\n",
       "    <tr>\n",
       "      <th>1</th>\n",
       "      <td>A</td>\n",
       "      <td>27</td>\n",
       "    </tr>\n",
       "    <tr>\n",
       "      <th>2</th>\n",
       "      <td>D</td>\n",
       "      <td>20</td>\n",
       "    </tr>\n",
       "    <tr>\n",
       "      <th>3</th>\n",
       "      <td>B</td>\n",
       "      <td>29</td>\n",
       "    </tr>\n",
       "  </tbody>\n",
       "</table>\n",
       "</div>"
      ],
      "text/plain": [
       "  escenario  cantidad\n",
       "0         C        27\n",
       "1         A        27\n",
       "2         D        20\n",
       "3         B        29"
      ]
     },
     "execution_count": 637,
     "metadata": {},
     "output_type": "execute_result"
    }
   ],
   "source": [
    "#Usamos la funcion Counter para contar cuantas veces se repiten las palabras\n",
    "newcounter = Counter(FinalDFRS['escenario'])\n",
    "escenariosRS = pd.DataFrame.from_dict(newcounter, orient='index').reset_index()\n",
    "escenariosRS.columns = ['escenario', 'cantidad']\n",
    "escenariosRS\n",
    "###----------------cuantos escenarios hubo en cada uno A B C y D (RS)-------------------------"
   ]
  },
  {
   "cell_type": "code",
   "execution_count": 638,
   "metadata": {},
   "outputs": [],
   "source": [
    "#para sacar el escenario \"A\"=RSescenarios[0]\n",
    "#para sacar el escenario B =RSescenarios[1]\n",
    "#para sacar el escenario C =RSescenarios[2]\n",
    "#para sacar el escenario D =RSescenarios[3]\n",
    "RSescenarios=getescenario(FinalDFRS)"
   ]
  },
  {
   "cell_type": "code",
   "execution_count": 639,
   "metadata": {},
   "outputs": [],
   "source": [
    "df_backtest = backtest(pruebabacktest,pruebaper,escenarios,df_decisiones)\n",
    "df_backtestentrenamiento = backtest(FinalDFRS,trainper,escenarios,df_decisiones)"
   ]
  },
  {
   "cell_type": "code",
   "execution_count": 640,
   "metadata": {},
   "outputs": [],
   "source": [
    "df_backtest"
   ]
  },
  {
   "cell_type": "code",
   "execution_count": 641,
   "metadata": {},
   "outputs": [],
   "source": [
    "df_backtestentrenamiento"
   ]
  },
  {
   "cell_type": "code",
   "execution_count": 642,
   "metadata": {},
   "outputs": [
    {
     "ename": "TypeError",
     "evalue": "'NoneType' object is not subscriptable",
     "output_type": "error",
     "traceback": [
      "\u001b[0;31m---------------------------------------------------------------------------\u001b[0m",
      "\u001b[0;31mTypeError\u001b[0m                                 Traceback (most recent call last)",
      "\u001b[0;32m<ipython-input-642-19983d503c1e>\u001b[0m in \u001b[0;36m<module>\u001b[0;34m\u001b[0m\n\u001b[1;32m      1\u001b[0m \u001b[0mfig\u001b[0m\u001b[0;34m=\u001b[0m\u001b[0mgo\u001b[0m\u001b[0;34m.\u001b[0m\u001b[0mFigure\u001b[0m\u001b[0;34m(\u001b[0m\u001b[0;34m)\u001b[0m\u001b[0;34m\u001b[0m\u001b[0m\n\u001b[0;32m----> 2\u001b[0;31m \u001b[0mfig\u001b[0m\u001b[0;34m.\u001b[0m\u001b[0madd_trace\u001b[0m\u001b[0;34m(\u001b[0m\u001b[0mgo\u001b[0m\u001b[0;34m.\u001b[0m\u001b[0mScatter\u001b[0m\u001b[0;34m(\u001b[0m\u001b[0mx\u001b[0m\u001b[0;34m=\u001b[0m\u001b[0mdf_backtest\u001b[0m\u001b[0;34m[\u001b[0m\u001b[0;34m\"timestamp\"\u001b[0m\u001b[0;34m]\u001b[0m\u001b[0;34m,\u001b[0m \u001b[0my\u001b[0m\u001b[0;34m=\u001b[0m\u001b[0mdf_backtest\u001b[0m\u001b[0;34m[\u001b[0m\u001b[0;34m\"capital\"\u001b[0m\u001b[0;34m]\u001b[0m\u001b[0;34m)\u001b[0m\u001b[0;34m)\u001b[0m\u001b[0;34m\u001b[0m\u001b[0m\n\u001b[0m\u001b[1;32m      3\u001b[0m fig.update_layout(title='Evolucion de Capital',\n\u001b[1;32m      4\u001b[0m                    \u001b[0mxaxis_title\u001b[0m\u001b[0;34m=\u001b[0m\u001b[0;34m'Fecha'\u001b[0m\u001b[0;34m,\u001b[0m\u001b[0;34m\u001b[0m\u001b[0m\n\u001b[1;32m      5\u001b[0m                    yaxis_title='Capital')\n",
      "\u001b[0;31mTypeError\u001b[0m: 'NoneType' object is not subscriptable"
     ]
    }
   ],
   "source": [
    "fig=go.Figure()\n",
    "fig.add_trace(go.Scatter(x=df_backtest[\"timestamp\"], y=df_backtest[\"capital\"]))\n",
    "fig.update_layout(title='Evolucion de Capital',\n",
    "                   xaxis_title='Fecha',\n",
    "                   yaxis_title='Capital')"
   ]
  },
  {
   "cell_type": "code",
   "execution_count": 643,
   "metadata": {},
   "outputs": [
    {
     "ename": "TypeError",
     "evalue": "'NoneType' object is not subscriptable",
     "output_type": "error",
     "traceback": [
      "\u001b[0;31m---------------------------------------------------------------------------\u001b[0m",
      "\u001b[0;31mTypeError\u001b[0m                                 Traceback (most recent call last)",
      "\u001b[0;32m<ipython-input-643-b87174ecbbe6>\u001b[0m in \u001b[0;36m<module>\u001b[0;34m\u001b[0m\n\u001b[1;32m      1\u001b[0m \u001b[0mfig\u001b[0m\u001b[0;34m=\u001b[0m\u001b[0mgo\u001b[0m\u001b[0;34m.\u001b[0m\u001b[0mFigure\u001b[0m\u001b[0;34m(\u001b[0m\u001b[0;34m)\u001b[0m\u001b[0;34m\u001b[0m\u001b[0m\n\u001b[0;32m----> 2\u001b[0;31m \u001b[0mfig\u001b[0m\u001b[0;34m.\u001b[0m\u001b[0madd_trace\u001b[0m\u001b[0;34m(\u001b[0m\u001b[0mgo\u001b[0m\u001b[0;34m.\u001b[0m\u001b[0mScatter\u001b[0m\u001b[0;34m(\u001b[0m\u001b[0mx\u001b[0m\u001b[0;34m=\u001b[0m\u001b[0mdf_backtest\u001b[0m\u001b[0;34m[\u001b[0m\u001b[0;34m\"timestamp\"\u001b[0m\u001b[0;34m]\u001b[0m\u001b[0;34m,\u001b[0m \u001b[0my\u001b[0m\u001b[0;34m=\u001b[0m\u001b[0mdf_backtest\u001b[0m\u001b[0;34m[\u001b[0m\u001b[0;34m\"balance final\"\u001b[0m\u001b[0;34m]\u001b[0m\u001b[0;34m)\u001b[0m\u001b[0;34m)\u001b[0m\u001b[0;34m\u001b[0m\u001b[0m\n\u001b[0m\u001b[1;32m      3\u001b[0m fig.update_layout(title='Balance General',\n\u001b[1;32m      4\u001b[0m                    \u001b[0mxaxis_title\u001b[0m\u001b[0;34m=\u001b[0m\u001b[0;34m'Fecha'\u001b[0m\u001b[0;34m,\u001b[0m\u001b[0;34m\u001b[0m\u001b[0m\n\u001b[1;32m      5\u001b[0m                    yaxis_title='Capital')\n",
      "\u001b[0;31mTypeError\u001b[0m: 'NoneType' object is not subscriptable"
     ]
    }
   ],
   "source": [
    "fig=go.Figure()\n",
    "fig.add_trace(go.Scatter(x=df_backtest[\"timestamp\"], y=df_backtest[\"balance final\"]))\n",
    "fig.update_layout(title='Balance General',\n",
    "                   xaxis_title='Fecha',\n",
    "                   yaxis_title='Capital')"
   ]
  },
  {
   "cell_type": "code",
   "execution_count": 615,
   "metadata": {},
   "outputs": [
    {
     "data": {
      "application/vnd.plotly.v1+json": {
       "config": {
        "plotlyServerURL": "https://plot.ly"
       },
       "data": [
        {
         "type": "scatter",
         "x": [
          "2009-05-06T09:00:00+00:00",
          "2009-06-04T09:00:00+00:00",
          "2009-07-03T09:00:00+00:00",
          "2009-08-05T09:00:00+00:00",
          "2009-09-03T09:00:00+00:00",
          "2009-10-05T09:00:00+00:00",
          "2009-11-05T10:00:00+00:00",
          "2009-12-03T10:00:00+00:00",
          "2010-01-07T10:00:00+00:00",
          "2010-02-03T10:00:00+00:00",
          "2010-03-03T10:00:00+00:00",
          "2010-04-08T09:00:00+00:00",
          "2010-05-05T09:00:00+00:00",
          "2010-06-03T09:00:00+00:00",
          "2010-07-05T09:00:00+00:00",
          "2010-08-04T09:00:00+00:00",
          "2010-09-03T09:00:00+00:00",
          "2010-10-05T09:00:00+00:00",
          "2010-11-05T10:00:00+00:00",
          "2010-12-03T10:00:00+00:00",
          "2011-01-06T10:00:00+00:00",
          "2011-02-03T10:00:00+00:00",
          "2011-03-03T10:00:00+00:00",
          "2011-04-05T09:00:00+00:00",
          "2011-05-04T09:00:00+00:00",
          "2011-06-07T09:00:00+00:00",
          "2011-07-05T09:00:00+00:00",
          "2011-08-03T09:00:00+00:00",
          "2011-09-05T09:00:00+00:00",
          "2011-10-05T09:00:00+00:00",
          "2011-11-07T10:00:00+00:00",
          "2011-12-05T10:00:00+00:00",
          "2012-01-06T10:00:00+00:00",
          "2012-02-03T10:00:00+00:00",
          "2012-03-05T10:00:00+00:00",
          "2012-04-04T09:00:00+00:00",
          "2012-05-04T09:00:00+00:00",
          "2012-06-05T09:00:00+00:00",
          "2012-07-04T09:00:00+00:00",
          "2012-08-03T09:00:00+00:00",
          "2012-09-05T09:00:00+00:00",
          "2012-10-03T09:00:00+00:00",
          "2012-11-07T10:00:00+00:00",
          "2012-12-05T10:00:00+00:00",
          "2013-01-08T10:00:00+00:00",
          "2013-02-05T10:00:00+00:00",
          "2013-03-05T10:00:00+00:00",
          "2013-04-05T09:00:00+00:00",
          "2013-05-06T09:00:00+00:00",
          "2013-06-05T09:00:00+00:00",
          "2013-07-03T09:00:00+00:00",
          "2013-08-05T09:00:00+00:00",
          "2013-09-04T09:00:00+00:00",
          "2013-10-03T09:00:00+00:00",
          "2013-11-06T10:00:00+00:00",
          "2013-12-04T10:00:00+00:00",
          "2014-01-08T10:00:00+00:00",
          "2014-02-05T10:00:00+00:00",
          "2014-03-05T10:00:00+00:00",
          "2014-04-03T09:00:00+00:00",
          "2014-05-06T09:00:00+00:00",
          "2014-06-05T09:00:00+00:00",
          "2014-07-03T09:00:00+00:00",
          "2014-08-05T09:00:00+00:00",
          "2014-09-03T09:00:00+00:00",
          "2014-10-03T09:00:00+00:00",
          "2014-11-05T10:00:00+00:00",
          "2014-12-03T10:00:00+00:00",
          "2015-01-08T10:00:00+00:00",
          "2015-02-04T10:00:00+00:00",
          "2015-03-04T10:00:00+00:00",
          "2015-04-08T09:00:00+00:00",
          "2015-05-06T09:00:00+00:00",
          "2015-06-03T09:00:00+00:00",
          "2015-07-03T09:00:00+00:00",
          "2015-08-05T09:00:00+00:00",
          "2015-09-03T09:00:00+00:00",
          "2015-10-05T09:00:00+00:00",
          "2015-11-05T10:00:00+00:00",
          "2015-12-03T10:00:00+00:00",
          "2016-01-07T10:00:00+00:00",
          "2016-02-03T10:00:00+00:00",
          "2016-03-03T10:00:00+00:00",
          "2016-04-05T09:00:00+00:00",
          "2016-05-04T09:00:00+00:00",
          "2016-06-03T09:00:00+00:00",
          "2016-07-05T09:00:00+00:00",
          "2016-08-03T09:00:00+00:00",
          "2016-09-05T09:00:00+00:00",
          "2016-10-05T09:00:00+00:00",
          "2016-11-07T10:00:00+00:00",
          "2016-12-05T10:00:00+00:00",
          "2017-01-06T10:00:00+00:00",
          "2017-02-03T10:00:00+00:00",
          "2017-03-03T10:00:00+00:00",
          "2017-04-04T09:00:00+00:00",
          "2017-05-04T09:00:00+00:00",
          "2017-06-06T09:00:00+00:00",
          "2017-07-05T09:00:00+00:00",
          "2017-08-03T09:00:00+00:00",
          "2017-09-05T09:00:00+00:00",
          "2017-10-04T09:00:00+00:00",
          "2017-11-07T10:00:00+00:00"
         ],
         "y": [
          1023.354805500141,
          0,
          0,
          0,
          0,
          0,
          0,
          0,
          0,
          0,
          0,
          0,
          0,
          0,
          0,
          0,
          0,
          0,
          -1000.0002352500509,
          1023.354805500141,
          1023.354805500141,
          0,
          0,
          0,
          0,
          0,
          -662.4200960000261,
          1000.000031250011,
          0,
          0,
          -662.4200960000261,
          0,
          0,
          0,
          1000.000031250011,
          0,
          0,
          0,
          0,
          0,
          0,
          1000.000031250011,
          0,
          0,
          0,
          -662.4200960000261,
          0,
          0,
          0,
          0,
          0,
          0,
          0,
          0,
          0,
          0,
          0,
          -662.4200960000261,
          0,
          0,
          0,
          0,
          0,
          0,
          0,
          0,
          0,
          0,
          0,
          0,
          0,
          0,
          -662.4200960000261,
          0,
          0,
          0,
          0,
          0,
          0,
          0,
          0,
          0,
          0,
          0,
          0,
          0,
          0,
          0,
          0,
          0,
          0,
          0,
          0,
          0,
          0,
          0,
          0,
          0,
          0,
          0,
          0,
          0,
          0
         ]
        }
       ],
       "layout": {
        "template": {
         "data": {
          "bar": [
           {
            "error_x": {
             "color": "#2a3f5f"
            },
            "error_y": {
             "color": "#2a3f5f"
            },
            "marker": {
             "line": {
              "color": "#E5ECF6",
              "width": 0.5
             }
            },
            "type": "bar"
           }
          ],
          "barpolar": [
           {
            "marker": {
             "line": {
              "color": "#E5ECF6",
              "width": 0.5
             }
            },
            "type": "barpolar"
           }
          ],
          "carpet": [
           {
            "aaxis": {
             "endlinecolor": "#2a3f5f",
             "gridcolor": "white",
             "linecolor": "white",
             "minorgridcolor": "white",
             "startlinecolor": "#2a3f5f"
            },
            "baxis": {
             "endlinecolor": "#2a3f5f",
             "gridcolor": "white",
             "linecolor": "white",
             "minorgridcolor": "white",
             "startlinecolor": "#2a3f5f"
            },
            "type": "carpet"
           }
          ],
          "choropleth": [
           {
            "colorbar": {
             "outlinewidth": 0,
             "ticks": ""
            },
            "type": "choropleth"
           }
          ],
          "contour": [
           {
            "colorbar": {
             "outlinewidth": 0,
             "ticks": ""
            },
            "colorscale": [
             [
              0,
              "#0d0887"
             ],
             [
              0.1111111111111111,
              "#46039f"
             ],
             [
              0.2222222222222222,
              "#7201a8"
             ],
             [
              0.3333333333333333,
              "#9c179e"
             ],
             [
              0.4444444444444444,
              "#bd3786"
             ],
             [
              0.5555555555555556,
              "#d8576b"
             ],
             [
              0.6666666666666666,
              "#ed7953"
             ],
             [
              0.7777777777777778,
              "#fb9f3a"
             ],
             [
              0.8888888888888888,
              "#fdca26"
             ],
             [
              1,
              "#f0f921"
             ]
            ],
            "type": "contour"
           }
          ],
          "contourcarpet": [
           {
            "colorbar": {
             "outlinewidth": 0,
             "ticks": ""
            },
            "type": "contourcarpet"
           }
          ],
          "heatmap": [
           {
            "colorbar": {
             "outlinewidth": 0,
             "ticks": ""
            },
            "colorscale": [
             [
              0,
              "#0d0887"
             ],
             [
              0.1111111111111111,
              "#46039f"
             ],
             [
              0.2222222222222222,
              "#7201a8"
             ],
             [
              0.3333333333333333,
              "#9c179e"
             ],
             [
              0.4444444444444444,
              "#bd3786"
             ],
             [
              0.5555555555555556,
              "#d8576b"
             ],
             [
              0.6666666666666666,
              "#ed7953"
             ],
             [
              0.7777777777777778,
              "#fb9f3a"
             ],
             [
              0.8888888888888888,
              "#fdca26"
             ],
             [
              1,
              "#f0f921"
             ]
            ],
            "type": "heatmap"
           }
          ],
          "heatmapgl": [
           {
            "colorbar": {
             "outlinewidth": 0,
             "ticks": ""
            },
            "colorscale": [
             [
              0,
              "#0d0887"
             ],
             [
              0.1111111111111111,
              "#46039f"
             ],
             [
              0.2222222222222222,
              "#7201a8"
             ],
             [
              0.3333333333333333,
              "#9c179e"
             ],
             [
              0.4444444444444444,
              "#bd3786"
             ],
             [
              0.5555555555555556,
              "#d8576b"
             ],
             [
              0.6666666666666666,
              "#ed7953"
             ],
             [
              0.7777777777777778,
              "#fb9f3a"
             ],
             [
              0.8888888888888888,
              "#fdca26"
             ],
             [
              1,
              "#f0f921"
             ]
            ],
            "type": "heatmapgl"
           }
          ],
          "histogram": [
           {
            "marker": {
             "colorbar": {
              "outlinewidth": 0,
              "ticks": ""
             }
            },
            "type": "histogram"
           }
          ],
          "histogram2d": [
           {
            "colorbar": {
             "outlinewidth": 0,
             "ticks": ""
            },
            "colorscale": [
             [
              0,
              "#0d0887"
             ],
             [
              0.1111111111111111,
              "#46039f"
             ],
             [
              0.2222222222222222,
              "#7201a8"
             ],
             [
              0.3333333333333333,
              "#9c179e"
             ],
             [
              0.4444444444444444,
              "#bd3786"
             ],
             [
              0.5555555555555556,
              "#d8576b"
             ],
             [
              0.6666666666666666,
              "#ed7953"
             ],
             [
              0.7777777777777778,
              "#fb9f3a"
             ],
             [
              0.8888888888888888,
              "#fdca26"
             ],
             [
              1,
              "#f0f921"
             ]
            ],
            "type": "histogram2d"
           }
          ],
          "histogram2dcontour": [
           {
            "colorbar": {
             "outlinewidth": 0,
             "ticks": ""
            },
            "colorscale": [
             [
              0,
              "#0d0887"
             ],
             [
              0.1111111111111111,
              "#46039f"
             ],
             [
              0.2222222222222222,
              "#7201a8"
             ],
             [
              0.3333333333333333,
              "#9c179e"
             ],
             [
              0.4444444444444444,
              "#bd3786"
             ],
             [
              0.5555555555555556,
              "#d8576b"
             ],
             [
              0.6666666666666666,
              "#ed7953"
             ],
             [
              0.7777777777777778,
              "#fb9f3a"
             ],
             [
              0.8888888888888888,
              "#fdca26"
             ],
             [
              1,
              "#f0f921"
             ]
            ],
            "type": "histogram2dcontour"
           }
          ],
          "mesh3d": [
           {
            "colorbar": {
             "outlinewidth": 0,
             "ticks": ""
            },
            "type": "mesh3d"
           }
          ],
          "parcoords": [
           {
            "line": {
             "colorbar": {
              "outlinewidth": 0,
              "ticks": ""
             }
            },
            "type": "parcoords"
           }
          ],
          "scatter": [
           {
            "marker": {
             "colorbar": {
              "outlinewidth": 0,
              "ticks": ""
             }
            },
            "type": "scatter"
           }
          ],
          "scatter3d": [
           {
            "line": {
             "colorbar": {
              "outlinewidth": 0,
              "ticks": ""
             }
            },
            "marker": {
             "colorbar": {
              "outlinewidth": 0,
              "ticks": ""
             }
            },
            "type": "scatter3d"
           }
          ],
          "scattercarpet": [
           {
            "marker": {
             "colorbar": {
              "outlinewidth": 0,
              "ticks": ""
             }
            },
            "type": "scattercarpet"
           }
          ],
          "scattergeo": [
           {
            "marker": {
             "colorbar": {
              "outlinewidth": 0,
              "ticks": ""
             }
            },
            "type": "scattergeo"
           }
          ],
          "scattergl": [
           {
            "marker": {
             "colorbar": {
              "outlinewidth": 0,
              "ticks": ""
             }
            },
            "type": "scattergl"
           }
          ],
          "scattermapbox": [
           {
            "marker": {
             "colorbar": {
              "outlinewidth": 0,
              "ticks": ""
             }
            },
            "type": "scattermapbox"
           }
          ],
          "scatterpolar": [
           {
            "marker": {
             "colorbar": {
              "outlinewidth": 0,
              "ticks": ""
             }
            },
            "type": "scatterpolar"
           }
          ],
          "scatterpolargl": [
           {
            "marker": {
             "colorbar": {
              "outlinewidth": 0,
              "ticks": ""
             }
            },
            "type": "scatterpolargl"
           }
          ],
          "scatterternary": [
           {
            "marker": {
             "colorbar": {
              "outlinewidth": 0,
              "ticks": ""
             }
            },
            "type": "scatterternary"
           }
          ],
          "surface": [
           {
            "colorbar": {
             "outlinewidth": 0,
             "ticks": ""
            },
            "colorscale": [
             [
              0,
              "#0d0887"
             ],
             [
              0.1111111111111111,
              "#46039f"
             ],
             [
              0.2222222222222222,
              "#7201a8"
             ],
             [
              0.3333333333333333,
              "#9c179e"
             ],
             [
              0.4444444444444444,
              "#bd3786"
             ],
             [
              0.5555555555555556,
              "#d8576b"
             ],
             [
              0.6666666666666666,
              "#ed7953"
             ],
             [
              0.7777777777777778,
              "#fb9f3a"
             ],
             [
              0.8888888888888888,
              "#fdca26"
             ],
             [
              1,
              "#f0f921"
             ]
            ],
            "type": "surface"
           }
          ],
          "table": [
           {
            "cells": {
             "fill": {
              "color": "#EBF0F8"
             },
             "line": {
              "color": "white"
             }
            },
            "header": {
             "fill": {
              "color": "#C8D4E3"
             },
             "line": {
              "color": "white"
             }
            },
            "type": "table"
           }
          ]
         },
         "layout": {
          "annotationdefaults": {
           "arrowcolor": "#2a3f5f",
           "arrowhead": 0,
           "arrowwidth": 1
          },
          "colorscale": {
           "diverging": [
            [
             0,
             "#8e0152"
            ],
            [
             0.1,
             "#c51b7d"
            ],
            [
             0.2,
             "#de77ae"
            ],
            [
             0.3,
             "#f1b6da"
            ],
            [
             0.4,
             "#fde0ef"
            ],
            [
             0.5,
             "#f7f7f7"
            ],
            [
             0.6,
             "#e6f5d0"
            ],
            [
             0.7,
             "#b8e186"
            ],
            [
             0.8,
             "#7fbc41"
            ],
            [
             0.9,
             "#4d9221"
            ],
            [
             1,
             "#276419"
            ]
           ],
           "sequential": [
            [
             0,
             "#0d0887"
            ],
            [
             0.1111111111111111,
             "#46039f"
            ],
            [
             0.2222222222222222,
             "#7201a8"
            ],
            [
             0.3333333333333333,
             "#9c179e"
            ],
            [
             0.4444444444444444,
             "#bd3786"
            ],
            [
             0.5555555555555556,
             "#d8576b"
            ],
            [
             0.6666666666666666,
             "#ed7953"
            ],
            [
             0.7777777777777778,
             "#fb9f3a"
            ],
            [
             0.8888888888888888,
             "#fdca26"
            ],
            [
             1,
             "#f0f921"
            ]
           ],
           "sequentialminus": [
            [
             0,
             "#0d0887"
            ],
            [
             0.1111111111111111,
             "#46039f"
            ],
            [
             0.2222222222222222,
             "#7201a8"
            ],
            [
             0.3333333333333333,
             "#9c179e"
            ],
            [
             0.4444444444444444,
             "#bd3786"
            ],
            [
             0.5555555555555556,
             "#d8576b"
            ],
            [
             0.6666666666666666,
             "#ed7953"
            ],
            [
             0.7777777777777778,
             "#fb9f3a"
            ],
            [
             0.8888888888888888,
             "#fdca26"
            ],
            [
             1,
             "#f0f921"
            ]
           ]
          },
          "colorway": [
           "#636efa",
           "#EF553B",
           "#00cc96",
           "#ab63fa",
           "#FFA15A",
           "#19d3f3",
           "#FF6692",
           "#B6E880",
           "#FF97FF",
           "#FECB52"
          ],
          "font": {
           "color": "#2a3f5f"
          },
          "geo": {
           "bgcolor": "white",
           "lakecolor": "white",
           "landcolor": "#E5ECF6",
           "showlakes": true,
           "showland": true,
           "subunitcolor": "white"
          },
          "hoverlabel": {
           "align": "left"
          },
          "hovermode": "closest",
          "mapbox": {
           "style": "light"
          },
          "paper_bgcolor": "white",
          "plot_bgcolor": "#E5ECF6",
          "polar": {
           "angularaxis": {
            "gridcolor": "white",
            "linecolor": "white",
            "ticks": ""
           },
           "bgcolor": "#E5ECF6",
           "radialaxis": {
            "gridcolor": "white",
            "linecolor": "white",
            "ticks": ""
           }
          },
          "scene": {
           "xaxis": {
            "backgroundcolor": "#E5ECF6",
            "gridcolor": "white",
            "gridwidth": 2,
            "linecolor": "white",
            "showbackground": true,
            "ticks": "",
            "zerolinecolor": "white"
           },
           "yaxis": {
            "backgroundcolor": "#E5ECF6",
            "gridcolor": "white",
            "gridwidth": 2,
            "linecolor": "white",
            "showbackground": true,
            "ticks": "",
            "zerolinecolor": "white"
           },
           "zaxis": {
            "backgroundcolor": "#E5ECF6",
            "gridcolor": "white",
            "gridwidth": 2,
            "linecolor": "white",
            "showbackground": true,
            "ticks": "",
            "zerolinecolor": "white"
           }
          },
          "shapedefaults": {
           "line": {
            "color": "#2a3f5f"
           }
          },
          "ternary": {
           "aaxis": {
            "gridcolor": "white",
            "linecolor": "white",
            "ticks": ""
           },
           "baxis": {
            "gridcolor": "white",
            "linecolor": "white",
            "ticks": ""
           },
           "bgcolor": "#E5ECF6",
           "caxis": {
            "gridcolor": "white",
            "linecolor": "white",
            "ticks": ""
           }
          },
          "title": {
           "x": 0.05
          },
          "xaxis": {
           "automargin": true,
           "gridcolor": "white",
           "linecolor": "white",
           "ticks": "",
           "zerolinecolor": "white",
           "zerolinewidth": 2
          },
          "yaxis": {
           "automargin": true,
           "gridcolor": "white",
           "linecolor": "white",
           "ticks": "",
           "zerolinecolor": "white",
           "zerolinewidth": 2
          }
         }
        },
        "title": {
         "text": "Evolucion de Capital entrenamiento"
        },
        "xaxis": {
         "title": {
          "text": "Fecha"
         }
        },
        "yaxis": {
         "title": {
          "text": "Capital"
         }
        }
       }
      },
      "text/html": [
       "<div>\n",
       "        \n",
       "        \n",
       "            <div id=\"f61ce34c-c3b3-4b95-b1b2-4f38f065f075\" class=\"plotly-graph-div\" style=\"height:525px; width:100%;\"></div>\n",
       "            <script type=\"text/javascript\">\n",
       "                require([\"plotly\"], function(Plotly) {\n",
       "                    window.PLOTLYENV=window.PLOTLYENV || {};\n",
       "                    \n",
       "                if (document.getElementById(\"f61ce34c-c3b3-4b95-b1b2-4f38f065f075\")) {\n",
       "                    Plotly.newPlot(\n",
       "                        'f61ce34c-c3b3-4b95-b1b2-4f38f065f075',\n",
       "                        [{\"type\": \"scatter\", \"x\": [\"2009-05-06T09:00:00+00:00\", \"2009-06-04T09:00:00+00:00\", \"2009-07-03T09:00:00+00:00\", \"2009-08-05T09:00:00+00:00\", \"2009-09-03T09:00:00+00:00\", \"2009-10-05T09:00:00+00:00\", \"2009-11-05T10:00:00+00:00\", \"2009-12-03T10:00:00+00:00\", \"2010-01-07T10:00:00+00:00\", \"2010-02-03T10:00:00+00:00\", \"2010-03-03T10:00:00+00:00\", \"2010-04-08T09:00:00+00:00\", \"2010-05-05T09:00:00+00:00\", \"2010-06-03T09:00:00+00:00\", \"2010-07-05T09:00:00+00:00\", \"2010-08-04T09:00:00+00:00\", \"2010-09-03T09:00:00+00:00\", \"2010-10-05T09:00:00+00:00\", \"2010-11-05T10:00:00+00:00\", \"2010-12-03T10:00:00+00:00\", \"2011-01-06T10:00:00+00:00\", \"2011-02-03T10:00:00+00:00\", \"2011-03-03T10:00:00+00:00\", \"2011-04-05T09:00:00+00:00\", \"2011-05-04T09:00:00+00:00\", \"2011-06-07T09:00:00+00:00\", \"2011-07-05T09:00:00+00:00\", \"2011-08-03T09:00:00+00:00\", \"2011-09-05T09:00:00+00:00\", \"2011-10-05T09:00:00+00:00\", \"2011-11-07T10:00:00+00:00\", \"2011-12-05T10:00:00+00:00\", \"2012-01-06T10:00:00+00:00\", \"2012-02-03T10:00:00+00:00\", \"2012-03-05T10:00:00+00:00\", \"2012-04-04T09:00:00+00:00\", \"2012-05-04T09:00:00+00:00\", \"2012-06-05T09:00:00+00:00\", \"2012-07-04T09:00:00+00:00\", \"2012-08-03T09:00:00+00:00\", \"2012-09-05T09:00:00+00:00\", \"2012-10-03T09:00:00+00:00\", \"2012-11-07T10:00:00+00:00\", \"2012-12-05T10:00:00+00:00\", \"2013-01-08T10:00:00+00:00\", \"2013-02-05T10:00:00+00:00\", \"2013-03-05T10:00:00+00:00\", \"2013-04-05T09:00:00+00:00\", \"2013-05-06T09:00:00+00:00\", \"2013-06-05T09:00:00+00:00\", \"2013-07-03T09:00:00+00:00\", \"2013-08-05T09:00:00+00:00\", \"2013-09-04T09:00:00+00:00\", \"2013-10-03T09:00:00+00:00\", \"2013-11-06T10:00:00+00:00\", \"2013-12-04T10:00:00+00:00\", \"2014-01-08T10:00:00+00:00\", \"2014-02-05T10:00:00+00:00\", \"2014-03-05T10:00:00+00:00\", \"2014-04-03T09:00:00+00:00\", \"2014-05-06T09:00:00+00:00\", \"2014-06-05T09:00:00+00:00\", \"2014-07-03T09:00:00+00:00\", \"2014-08-05T09:00:00+00:00\", \"2014-09-03T09:00:00+00:00\", \"2014-10-03T09:00:00+00:00\", \"2014-11-05T10:00:00+00:00\", \"2014-12-03T10:00:00+00:00\", \"2015-01-08T10:00:00+00:00\", \"2015-02-04T10:00:00+00:00\", \"2015-03-04T10:00:00+00:00\", \"2015-04-08T09:00:00+00:00\", \"2015-05-06T09:00:00+00:00\", \"2015-06-03T09:00:00+00:00\", \"2015-07-03T09:00:00+00:00\", \"2015-08-05T09:00:00+00:00\", \"2015-09-03T09:00:00+00:00\", \"2015-10-05T09:00:00+00:00\", \"2015-11-05T10:00:00+00:00\", \"2015-12-03T10:00:00+00:00\", \"2016-01-07T10:00:00+00:00\", \"2016-02-03T10:00:00+00:00\", \"2016-03-03T10:00:00+00:00\", \"2016-04-05T09:00:00+00:00\", \"2016-05-04T09:00:00+00:00\", \"2016-06-03T09:00:00+00:00\", \"2016-07-05T09:00:00+00:00\", \"2016-08-03T09:00:00+00:00\", \"2016-09-05T09:00:00+00:00\", \"2016-10-05T09:00:00+00:00\", \"2016-11-07T10:00:00+00:00\", \"2016-12-05T10:00:00+00:00\", \"2017-01-06T10:00:00+00:00\", \"2017-02-03T10:00:00+00:00\", \"2017-03-03T10:00:00+00:00\", \"2017-04-04T09:00:00+00:00\", \"2017-05-04T09:00:00+00:00\", \"2017-06-06T09:00:00+00:00\", \"2017-07-05T09:00:00+00:00\", \"2017-08-03T09:00:00+00:00\", \"2017-09-05T09:00:00+00:00\", \"2017-10-04T09:00:00+00:00\", \"2017-11-07T10:00:00+00:00\"], \"y\": [1023.354805500141, 0.0, 0.0, 0.0, 0.0, 0.0, 0.0, 0.0, 0.0, 0.0, 0.0, 0.0, 0.0, 0.0, 0.0, 0.0, 0.0, 0.0, -1000.0002352500509, 1023.354805500141, 1023.354805500141, 0.0, 0.0, 0.0, 0.0, 0.0, -662.4200960000261, 1000.000031250011, 0.0, 0.0, -662.4200960000261, 0.0, 0.0, 0.0, 1000.000031250011, 0.0, 0.0, 0.0, 0.0, 0.0, 0.0, 1000.000031250011, 0.0, 0.0, 0.0, -662.4200960000261, 0.0, 0.0, 0.0, 0.0, 0.0, 0.0, 0.0, 0.0, 0.0, 0.0, 0.0, -662.4200960000261, 0.0, 0.0, 0.0, 0.0, 0.0, 0.0, 0.0, 0.0, 0.0, 0.0, 0.0, 0.0, 0.0, 0.0, -662.4200960000261, 0.0, 0.0, 0.0, 0.0, 0.0, 0.0, 0.0, 0.0, 0.0, 0.0, 0.0, 0.0, 0.0, 0.0, 0.0, 0.0, 0.0, 0.0, 0.0, 0.0, 0.0, 0.0, 0.0, 0.0, 0.0, 0.0, 0.0, 0.0, 0.0, 0.0]}],\n",
       "                        {\"template\": {\"data\": {\"bar\": [{\"error_x\": {\"color\": \"#2a3f5f\"}, \"error_y\": {\"color\": \"#2a3f5f\"}, \"marker\": {\"line\": {\"color\": \"#E5ECF6\", \"width\": 0.5}}, \"type\": \"bar\"}], \"barpolar\": [{\"marker\": {\"line\": {\"color\": \"#E5ECF6\", \"width\": 0.5}}, \"type\": \"barpolar\"}], \"carpet\": [{\"aaxis\": {\"endlinecolor\": \"#2a3f5f\", \"gridcolor\": \"white\", \"linecolor\": \"white\", \"minorgridcolor\": \"white\", \"startlinecolor\": \"#2a3f5f\"}, \"baxis\": {\"endlinecolor\": \"#2a3f5f\", \"gridcolor\": \"white\", \"linecolor\": \"white\", \"minorgridcolor\": \"white\", \"startlinecolor\": \"#2a3f5f\"}, \"type\": \"carpet\"}], \"choropleth\": [{\"colorbar\": {\"outlinewidth\": 0, \"ticks\": \"\"}, \"type\": \"choropleth\"}], \"contour\": [{\"colorbar\": {\"outlinewidth\": 0, \"ticks\": \"\"}, \"colorscale\": [[0.0, \"#0d0887\"], [0.1111111111111111, \"#46039f\"], [0.2222222222222222, \"#7201a8\"], [0.3333333333333333, \"#9c179e\"], [0.4444444444444444, \"#bd3786\"], [0.5555555555555556, \"#d8576b\"], [0.6666666666666666, \"#ed7953\"], [0.7777777777777778, \"#fb9f3a\"], [0.8888888888888888, \"#fdca26\"], [1.0, \"#f0f921\"]], \"type\": \"contour\"}], \"contourcarpet\": [{\"colorbar\": {\"outlinewidth\": 0, \"ticks\": \"\"}, \"type\": \"contourcarpet\"}], \"heatmap\": [{\"colorbar\": {\"outlinewidth\": 0, \"ticks\": \"\"}, \"colorscale\": [[0.0, \"#0d0887\"], [0.1111111111111111, \"#46039f\"], [0.2222222222222222, \"#7201a8\"], [0.3333333333333333, \"#9c179e\"], [0.4444444444444444, \"#bd3786\"], [0.5555555555555556, \"#d8576b\"], [0.6666666666666666, \"#ed7953\"], [0.7777777777777778, \"#fb9f3a\"], [0.8888888888888888, \"#fdca26\"], [1.0, \"#f0f921\"]], \"type\": \"heatmap\"}], \"heatmapgl\": [{\"colorbar\": {\"outlinewidth\": 0, \"ticks\": \"\"}, \"colorscale\": [[0.0, \"#0d0887\"], [0.1111111111111111, \"#46039f\"], [0.2222222222222222, \"#7201a8\"], [0.3333333333333333, \"#9c179e\"], [0.4444444444444444, \"#bd3786\"], [0.5555555555555556, \"#d8576b\"], [0.6666666666666666, \"#ed7953\"], [0.7777777777777778, \"#fb9f3a\"], [0.8888888888888888, \"#fdca26\"], [1.0, \"#f0f921\"]], \"type\": \"heatmapgl\"}], \"histogram\": [{\"marker\": {\"colorbar\": {\"outlinewidth\": 0, \"ticks\": \"\"}}, \"type\": \"histogram\"}], \"histogram2d\": [{\"colorbar\": {\"outlinewidth\": 0, \"ticks\": \"\"}, \"colorscale\": [[0.0, \"#0d0887\"], [0.1111111111111111, \"#46039f\"], [0.2222222222222222, \"#7201a8\"], [0.3333333333333333, \"#9c179e\"], [0.4444444444444444, \"#bd3786\"], [0.5555555555555556, \"#d8576b\"], [0.6666666666666666, \"#ed7953\"], [0.7777777777777778, \"#fb9f3a\"], [0.8888888888888888, \"#fdca26\"], [1.0, \"#f0f921\"]], \"type\": \"histogram2d\"}], \"histogram2dcontour\": [{\"colorbar\": {\"outlinewidth\": 0, \"ticks\": \"\"}, \"colorscale\": [[0.0, \"#0d0887\"], [0.1111111111111111, \"#46039f\"], [0.2222222222222222, \"#7201a8\"], [0.3333333333333333, \"#9c179e\"], [0.4444444444444444, \"#bd3786\"], [0.5555555555555556, \"#d8576b\"], [0.6666666666666666, \"#ed7953\"], [0.7777777777777778, \"#fb9f3a\"], [0.8888888888888888, \"#fdca26\"], [1.0, \"#f0f921\"]], \"type\": \"histogram2dcontour\"}], \"mesh3d\": [{\"colorbar\": {\"outlinewidth\": 0, \"ticks\": \"\"}, \"type\": \"mesh3d\"}], \"parcoords\": [{\"line\": {\"colorbar\": {\"outlinewidth\": 0, \"ticks\": \"\"}}, \"type\": \"parcoords\"}], \"scatter\": [{\"marker\": {\"colorbar\": {\"outlinewidth\": 0, \"ticks\": \"\"}}, \"type\": \"scatter\"}], \"scatter3d\": [{\"line\": {\"colorbar\": {\"outlinewidth\": 0, \"ticks\": \"\"}}, \"marker\": {\"colorbar\": {\"outlinewidth\": 0, \"ticks\": \"\"}}, \"type\": \"scatter3d\"}], \"scattercarpet\": [{\"marker\": {\"colorbar\": {\"outlinewidth\": 0, \"ticks\": \"\"}}, \"type\": \"scattercarpet\"}], \"scattergeo\": [{\"marker\": {\"colorbar\": {\"outlinewidth\": 0, \"ticks\": \"\"}}, \"type\": \"scattergeo\"}], \"scattergl\": [{\"marker\": {\"colorbar\": {\"outlinewidth\": 0, \"ticks\": \"\"}}, \"type\": \"scattergl\"}], \"scattermapbox\": [{\"marker\": {\"colorbar\": {\"outlinewidth\": 0, \"ticks\": \"\"}}, \"type\": \"scattermapbox\"}], \"scatterpolar\": [{\"marker\": {\"colorbar\": {\"outlinewidth\": 0, \"ticks\": \"\"}}, \"type\": \"scatterpolar\"}], \"scatterpolargl\": [{\"marker\": {\"colorbar\": {\"outlinewidth\": 0, \"ticks\": \"\"}}, \"type\": \"scatterpolargl\"}], \"scatterternary\": [{\"marker\": {\"colorbar\": {\"outlinewidth\": 0, \"ticks\": \"\"}}, \"type\": \"scatterternary\"}], \"surface\": [{\"colorbar\": {\"outlinewidth\": 0, \"ticks\": \"\"}, \"colorscale\": [[0.0, \"#0d0887\"], [0.1111111111111111, \"#46039f\"], [0.2222222222222222, \"#7201a8\"], [0.3333333333333333, \"#9c179e\"], [0.4444444444444444, \"#bd3786\"], [0.5555555555555556, \"#d8576b\"], [0.6666666666666666, \"#ed7953\"], [0.7777777777777778, \"#fb9f3a\"], [0.8888888888888888, \"#fdca26\"], [1.0, \"#f0f921\"]], \"type\": \"surface\"}], \"table\": [{\"cells\": {\"fill\": {\"color\": \"#EBF0F8\"}, \"line\": {\"color\": \"white\"}}, \"header\": {\"fill\": {\"color\": \"#C8D4E3\"}, \"line\": {\"color\": \"white\"}}, \"type\": \"table\"}]}, \"layout\": {\"annotationdefaults\": {\"arrowcolor\": \"#2a3f5f\", \"arrowhead\": 0, \"arrowwidth\": 1}, \"colorscale\": {\"diverging\": [[0, \"#8e0152\"], [0.1, \"#c51b7d\"], [0.2, \"#de77ae\"], [0.3, \"#f1b6da\"], [0.4, \"#fde0ef\"], [0.5, \"#f7f7f7\"], [0.6, \"#e6f5d0\"], [0.7, \"#b8e186\"], [0.8, \"#7fbc41\"], [0.9, \"#4d9221\"], [1, \"#276419\"]], \"sequential\": [[0.0, \"#0d0887\"], [0.1111111111111111, \"#46039f\"], [0.2222222222222222, \"#7201a8\"], [0.3333333333333333, \"#9c179e\"], [0.4444444444444444, \"#bd3786\"], [0.5555555555555556, \"#d8576b\"], [0.6666666666666666, \"#ed7953\"], [0.7777777777777778, \"#fb9f3a\"], [0.8888888888888888, \"#fdca26\"], [1.0, \"#f0f921\"]], \"sequentialminus\": [[0.0, \"#0d0887\"], [0.1111111111111111, \"#46039f\"], [0.2222222222222222, \"#7201a8\"], [0.3333333333333333, \"#9c179e\"], [0.4444444444444444, \"#bd3786\"], [0.5555555555555556, \"#d8576b\"], [0.6666666666666666, \"#ed7953\"], [0.7777777777777778, \"#fb9f3a\"], [0.8888888888888888, \"#fdca26\"], [1.0, \"#f0f921\"]]}, \"colorway\": [\"#636efa\", \"#EF553B\", \"#00cc96\", \"#ab63fa\", \"#FFA15A\", \"#19d3f3\", \"#FF6692\", \"#B6E880\", \"#FF97FF\", \"#FECB52\"], \"font\": {\"color\": \"#2a3f5f\"}, \"geo\": {\"bgcolor\": \"white\", \"lakecolor\": \"white\", \"landcolor\": \"#E5ECF6\", \"showlakes\": true, \"showland\": true, \"subunitcolor\": \"white\"}, \"hoverlabel\": {\"align\": \"left\"}, \"hovermode\": \"closest\", \"mapbox\": {\"style\": \"light\"}, \"paper_bgcolor\": \"white\", \"plot_bgcolor\": \"#E5ECF6\", \"polar\": {\"angularaxis\": {\"gridcolor\": \"white\", \"linecolor\": \"white\", \"ticks\": \"\"}, \"bgcolor\": \"#E5ECF6\", \"radialaxis\": {\"gridcolor\": \"white\", \"linecolor\": \"white\", \"ticks\": \"\"}}, \"scene\": {\"xaxis\": {\"backgroundcolor\": \"#E5ECF6\", \"gridcolor\": \"white\", \"gridwidth\": 2, \"linecolor\": \"white\", \"showbackground\": true, \"ticks\": \"\", \"zerolinecolor\": \"white\"}, \"yaxis\": {\"backgroundcolor\": \"#E5ECF6\", \"gridcolor\": \"white\", \"gridwidth\": 2, \"linecolor\": \"white\", \"showbackground\": true, \"ticks\": \"\", \"zerolinecolor\": \"white\"}, \"zaxis\": {\"backgroundcolor\": \"#E5ECF6\", \"gridcolor\": \"white\", \"gridwidth\": 2, \"linecolor\": \"white\", \"showbackground\": true, \"ticks\": \"\", \"zerolinecolor\": \"white\"}}, \"shapedefaults\": {\"line\": {\"color\": \"#2a3f5f\"}}, \"ternary\": {\"aaxis\": {\"gridcolor\": \"white\", \"linecolor\": \"white\", \"ticks\": \"\"}, \"baxis\": {\"gridcolor\": \"white\", \"linecolor\": \"white\", \"ticks\": \"\"}, \"bgcolor\": \"#E5ECF6\", \"caxis\": {\"gridcolor\": \"white\", \"linecolor\": \"white\", \"ticks\": \"\"}}, \"title\": {\"x\": 0.05}, \"xaxis\": {\"automargin\": true, \"gridcolor\": \"white\", \"linecolor\": \"white\", \"ticks\": \"\", \"zerolinecolor\": \"white\", \"zerolinewidth\": 2}, \"yaxis\": {\"automargin\": true, \"gridcolor\": \"white\", \"linecolor\": \"white\", \"ticks\": \"\", \"zerolinecolor\": \"white\", \"zerolinewidth\": 2}}}, \"title\": {\"text\": \"Evolucion de Capital entrenamiento\"}, \"xaxis\": {\"title\": {\"text\": \"Fecha\"}}, \"yaxis\": {\"title\": {\"text\": \"Capital\"}}},\n",
       "                        {\"responsive\": true}\n",
       "                    ).then(function(){\n",
       "                            \n",
       "var gd = document.getElementById('f61ce34c-c3b3-4b95-b1b2-4f38f065f075');\n",
       "var x = new MutationObserver(function (mutations, observer) {{\n",
       "        var display = window.getComputedStyle(gd).display;\n",
       "        if (!display || display === 'none') {{\n",
       "            console.log([gd, 'removed!']);\n",
       "            Plotly.purge(gd);\n",
       "            observer.disconnect();\n",
       "        }}\n",
       "}});\n",
       "\n",
       "// Listen for the removal of the full notebook cells\n",
       "var notebookContainer = gd.closest('#notebook-container');\n",
       "if (notebookContainer) {{\n",
       "    x.observe(notebookContainer, {childList: true});\n",
       "}}\n",
       "\n",
       "// Listen for the clearing of the current output cell\n",
       "var outputEl = gd.closest('.output');\n",
       "if (outputEl) {{\n",
       "    x.observe(outputEl, {childList: true});\n",
       "}}\n",
       "\n",
       "                        })\n",
       "                };\n",
       "                });\n",
       "            </script>\n",
       "        </div>"
      ]
     },
     "metadata": {},
     "output_type": "display_data"
    }
   ],
   "source": [
    "fig=go.Figure()\n",
    "fig.add_trace(go.Scatter(x=df_backtestentrenamiento[\"timestamp\"], y=df_backtestentrenamiento[\"capital\"]))\n",
    "fig.update_layout(title='Evolucion de Capital entrenamiento',\n",
    "                   xaxis_title='Fecha',\n",
    "                   yaxis_title='Capital')"
   ]
  },
  {
   "cell_type": "code",
   "execution_count": 616,
   "metadata": {},
   "outputs": [
    {
     "data": {
      "application/vnd.plotly.v1+json": {
       "config": {
        "plotlyServerURL": "https://plot.ly"
       },
       "data": [
        {
         "type": "scatter",
         "x": [
          "2009-05-06T09:00:00+00:00",
          "2009-06-04T09:00:00+00:00",
          "2009-07-03T09:00:00+00:00",
          "2009-08-05T09:00:00+00:00",
          "2009-09-03T09:00:00+00:00",
          "2009-10-05T09:00:00+00:00",
          "2009-11-05T10:00:00+00:00",
          "2009-12-03T10:00:00+00:00",
          "2010-01-07T10:00:00+00:00",
          "2010-02-03T10:00:00+00:00",
          "2010-03-03T10:00:00+00:00",
          "2010-04-08T09:00:00+00:00",
          "2010-05-05T09:00:00+00:00",
          "2010-06-03T09:00:00+00:00",
          "2010-07-05T09:00:00+00:00",
          "2010-08-04T09:00:00+00:00",
          "2010-09-03T09:00:00+00:00",
          "2010-10-05T09:00:00+00:00",
          "2010-11-05T10:00:00+00:00",
          "2010-12-03T10:00:00+00:00",
          "2011-01-06T10:00:00+00:00",
          "2011-02-03T10:00:00+00:00",
          "2011-03-03T10:00:00+00:00",
          "2011-04-05T09:00:00+00:00",
          "2011-05-04T09:00:00+00:00",
          "2011-06-07T09:00:00+00:00",
          "2011-07-05T09:00:00+00:00",
          "2011-08-03T09:00:00+00:00",
          "2011-09-05T09:00:00+00:00",
          "2011-10-05T09:00:00+00:00",
          "2011-11-07T10:00:00+00:00",
          "2011-12-05T10:00:00+00:00",
          "2012-01-06T10:00:00+00:00",
          "2012-02-03T10:00:00+00:00",
          "2012-03-05T10:00:00+00:00",
          "2012-04-04T09:00:00+00:00",
          "2012-05-04T09:00:00+00:00",
          "2012-06-05T09:00:00+00:00",
          "2012-07-04T09:00:00+00:00",
          "2012-08-03T09:00:00+00:00",
          "2012-09-05T09:00:00+00:00",
          "2012-10-03T09:00:00+00:00",
          "2012-11-07T10:00:00+00:00",
          "2012-12-05T10:00:00+00:00",
          "2013-01-08T10:00:00+00:00",
          "2013-02-05T10:00:00+00:00",
          "2013-03-05T10:00:00+00:00",
          "2013-04-05T09:00:00+00:00",
          "2013-05-06T09:00:00+00:00",
          "2013-06-05T09:00:00+00:00",
          "2013-07-03T09:00:00+00:00",
          "2013-08-05T09:00:00+00:00",
          "2013-09-04T09:00:00+00:00",
          "2013-10-03T09:00:00+00:00",
          "2013-11-06T10:00:00+00:00",
          "2013-12-04T10:00:00+00:00",
          "2014-01-08T10:00:00+00:00",
          "2014-02-05T10:00:00+00:00",
          "2014-03-05T10:00:00+00:00",
          "2014-04-03T09:00:00+00:00",
          "2014-05-06T09:00:00+00:00",
          "2014-06-05T09:00:00+00:00",
          "2014-07-03T09:00:00+00:00",
          "2014-08-05T09:00:00+00:00",
          "2014-09-03T09:00:00+00:00",
          "2014-10-03T09:00:00+00:00",
          "2014-11-05T10:00:00+00:00",
          "2014-12-03T10:00:00+00:00",
          "2015-01-08T10:00:00+00:00",
          "2015-02-04T10:00:00+00:00",
          "2015-03-04T10:00:00+00:00",
          "2015-04-08T09:00:00+00:00",
          "2015-05-06T09:00:00+00:00",
          "2015-06-03T09:00:00+00:00",
          "2015-07-03T09:00:00+00:00",
          "2015-08-05T09:00:00+00:00",
          "2015-09-03T09:00:00+00:00",
          "2015-10-05T09:00:00+00:00",
          "2015-11-05T10:00:00+00:00",
          "2015-12-03T10:00:00+00:00",
          "2016-01-07T10:00:00+00:00",
          "2016-02-03T10:00:00+00:00",
          "2016-03-03T10:00:00+00:00",
          "2016-04-05T09:00:00+00:00",
          "2016-05-04T09:00:00+00:00",
          "2016-06-03T09:00:00+00:00",
          "2016-07-05T09:00:00+00:00",
          "2016-08-03T09:00:00+00:00",
          "2016-09-05T09:00:00+00:00",
          "2016-10-05T09:00:00+00:00",
          "2016-11-07T10:00:00+00:00",
          "2016-12-05T10:00:00+00:00",
          "2017-01-06T10:00:00+00:00",
          "2017-02-03T10:00:00+00:00",
          "2017-03-03T10:00:00+00:00",
          "2017-04-04T09:00:00+00:00",
          "2017-05-04T09:00:00+00:00",
          "2017-06-06T09:00:00+00:00",
          "2017-07-05T09:00:00+00:00",
          "2017-08-03T09:00:00+00:00",
          "2017-09-05T09:00:00+00:00",
          "2017-10-04T09:00:00+00:00",
          "2017-11-07T10:00:00+00:00"
         ],
         "y": [
          101023.35480550014,
          101023.35480550014,
          101023.35480550014,
          101023.35480550014,
          101023.35480550014,
          101023.35480550014,
          101023.35480550014,
          101023.35480550014,
          101023.35480550014,
          101023.35480550014,
          101023.35480550014,
          101023.35480550014,
          101023.35480550014,
          101023.35480550014,
          101023.35480550014,
          101023.35480550014,
          101023.35480550014,
          101023.35480550014,
          100023.3545702501,
          101046.70937575024,
          102070.06418125039,
          102070.06418125039,
          102070.06418125039,
          102070.06418125039,
          102070.06418125039,
          102070.06418125039,
          101407.64408525036,
          102407.64411650036,
          102407.64411650036,
          102407.64411650036,
          101745.22402050033,
          101745.22402050033,
          101745.22402050033,
          101745.22402050033,
          102745.22405175034,
          102745.22405175034,
          102745.22405175034,
          102745.22405175034,
          102745.22405175034,
          102745.22405175034,
          102745.22405175034,
          103745.22408300034,
          103745.22408300034,
          103745.22408300034,
          103745.22408300034,
          103082.80398700031,
          103082.80398700031,
          103082.80398700031,
          103082.80398700031,
          103082.80398700031,
          103082.80398700031,
          103082.80398700031,
          103082.80398700031,
          103082.80398700031,
          103082.80398700031,
          103082.80398700031,
          103082.80398700031,
          102420.38389100028,
          102420.38389100028,
          102420.38389100028,
          102420.38389100028,
          102420.38389100028,
          102420.38389100028,
          102420.38389100028,
          102420.38389100028,
          102420.38389100028,
          102420.38389100028,
          102420.38389100028,
          102420.38389100028,
          102420.38389100028,
          102420.38389100028,
          102420.38389100028,
          101757.96379500025,
          101757.96379500025,
          101757.96379500025,
          101757.96379500025,
          101757.96379500025,
          101757.96379500025,
          101757.96379500025,
          101757.96379500025,
          101757.96379500025,
          101757.96379500025,
          101757.96379500025,
          101757.96379500025,
          101757.96379500025,
          101757.96379500025,
          101757.96379500025,
          101757.96379500025,
          101757.96379500025,
          101757.96379500025,
          101757.96379500025,
          101757.96379500025,
          101757.96379500025,
          101757.96379500025,
          101757.96379500025,
          101757.96379500025,
          101757.96379500025,
          101757.96379500025,
          101757.96379500025,
          101757.96379500025,
          101757.96379500025,
          101757.96379500025,
          101757.96379500025
         ]
        }
       ],
       "layout": {
        "template": {
         "data": {
          "bar": [
           {
            "error_x": {
             "color": "#2a3f5f"
            },
            "error_y": {
             "color": "#2a3f5f"
            },
            "marker": {
             "line": {
              "color": "#E5ECF6",
              "width": 0.5
             }
            },
            "type": "bar"
           }
          ],
          "barpolar": [
           {
            "marker": {
             "line": {
              "color": "#E5ECF6",
              "width": 0.5
             }
            },
            "type": "barpolar"
           }
          ],
          "carpet": [
           {
            "aaxis": {
             "endlinecolor": "#2a3f5f",
             "gridcolor": "white",
             "linecolor": "white",
             "minorgridcolor": "white",
             "startlinecolor": "#2a3f5f"
            },
            "baxis": {
             "endlinecolor": "#2a3f5f",
             "gridcolor": "white",
             "linecolor": "white",
             "minorgridcolor": "white",
             "startlinecolor": "#2a3f5f"
            },
            "type": "carpet"
           }
          ],
          "choropleth": [
           {
            "colorbar": {
             "outlinewidth": 0,
             "ticks": ""
            },
            "type": "choropleth"
           }
          ],
          "contour": [
           {
            "colorbar": {
             "outlinewidth": 0,
             "ticks": ""
            },
            "colorscale": [
             [
              0,
              "#0d0887"
             ],
             [
              0.1111111111111111,
              "#46039f"
             ],
             [
              0.2222222222222222,
              "#7201a8"
             ],
             [
              0.3333333333333333,
              "#9c179e"
             ],
             [
              0.4444444444444444,
              "#bd3786"
             ],
             [
              0.5555555555555556,
              "#d8576b"
             ],
             [
              0.6666666666666666,
              "#ed7953"
             ],
             [
              0.7777777777777778,
              "#fb9f3a"
             ],
             [
              0.8888888888888888,
              "#fdca26"
             ],
             [
              1,
              "#f0f921"
             ]
            ],
            "type": "contour"
           }
          ],
          "contourcarpet": [
           {
            "colorbar": {
             "outlinewidth": 0,
             "ticks": ""
            },
            "type": "contourcarpet"
           }
          ],
          "heatmap": [
           {
            "colorbar": {
             "outlinewidth": 0,
             "ticks": ""
            },
            "colorscale": [
             [
              0,
              "#0d0887"
             ],
             [
              0.1111111111111111,
              "#46039f"
             ],
             [
              0.2222222222222222,
              "#7201a8"
             ],
             [
              0.3333333333333333,
              "#9c179e"
             ],
             [
              0.4444444444444444,
              "#bd3786"
             ],
             [
              0.5555555555555556,
              "#d8576b"
             ],
             [
              0.6666666666666666,
              "#ed7953"
             ],
             [
              0.7777777777777778,
              "#fb9f3a"
             ],
             [
              0.8888888888888888,
              "#fdca26"
             ],
             [
              1,
              "#f0f921"
             ]
            ],
            "type": "heatmap"
           }
          ],
          "heatmapgl": [
           {
            "colorbar": {
             "outlinewidth": 0,
             "ticks": ""
            },
            "colorscale": [
             [
              0,
              "#0d0887"
             ],
             [
              0.1111111111111111,
              "#46039f"
             ],
             [
              0.2222222222222222,
              "#7201a8"
             ],
             [
              0.3333333333333333,
              "#9c179e"
             ],
             [
              0.4444444444444444,
              "#bd3786"
             ],
             [
              0.5555555555555556,
              "#d8576b"
             ],
             [
              0.6666666666666666,
              "#ed7953"
             ],
             [
              0.7777777777777778,
              "#fb9f3a"
             ],
             [
              0.8888888888888888,
              "#fdca26"
             ],
             [
              1,
              "#f0f921"
             ]
            ],
            "type": "heatmapgl"
           }
          ],
          "histogram": [
           {
            "marker": {
             "colorbar": {
              "outlinewidth": 0,
              "ticks": ""
             }
            },
            "type": "histogram"
           }
          ],
          "histogram2d": [
           {
            "colorbar": {
             "outlinewidth": 0,
             "ticks": ""
            },
            "colorscale": [
             [
              0,
              "#0d0887"
             ],
             [
              0.1111111111111111,
              "#46039f"
             ],
             [
              0.2222222222222222,
              "#7201a8"
             ],
             [
              0.3333333333333333,
              "#9c179e"
             ],
             [
              0.4444444444444444,
              "#bd3786"
             ],
             [
              0.5555555555555556,
              "#d8576b"
             ],
             [
              0.6666666666666666,
              "#ed7953"
             ],
             [
              0.7777777777777778,
              "#fb9f3a"
             ],
             [
              0.8888888888888888,
              "#fdca26"
             ],
             [
              1,
              "#f0f921"
             ]
            ],
            "type": "histogram2d"
           }
          ],
          "histogram2dcontour": [
           {
            "colorbar": {
             "outlinewidth": 0,
             "ticks": ""
            },
            "colorscale": [
             [
              0,
              "#0d0887"
             ],
             [
              0.1111111111111111,
              "#46039f"
             ],
             [
              0.2222222222222222,
              "#7201a8"
             ],
             [
              0.3333333333333333,
              "#9c179e"
             ],
             [
              0.4444444444444444,
              "#bd3786"
             ],
             [
              0.5555555555555556,
              "#d8576b"
             ],
             [
              0.6666666666666666,
              "#ed7953"
             ],
             [
              0.7777777777777778,
              "#fb9f3a"
             ],
             [
              0.8888888888888888,
              "#fdca26"
             ],
             [
              1,
              "#f0f921"
             ]
            ],
            "type": "histogram2dcontour"
           }
          ],
          "mesh3d": [
           {
            "colorbar": {
             "outlinewidth": 0,
             "ticks": ""
            },
            "type": "mesh3d"
           }
          ],
          "parcoords": [
           {
            "line": {
             "colorbar": {
              "outlinewidth": 0,
              "ticks": ""
             }
            },
            "type": "parcoords"
           }
          ],
          "scatter": [
           {
            "marker": {
             "colorbar": {
              "outlinewidth": 0,
              "ticks": ""
             }
            },
            "type": "scatter"
           }
          ],
          "scatter3d": [
           {
            "line": {
             "colorbar": {
              "outlinewidth": 0,
              "ticks": ""
             }
            },
            "marker": {
             "colorbar": {
              "outlinewidth": 0,
              "ticks": ""
             }
            },
            "type": "scatter3d"
           }
          ],
          "scattercarpet": [
           {
            "marker": {
             "colorbar": {
              "outlinewidth": 0,
              "ticks": ""
             }
            },
            "type": "scattercarpet"
           }
          ],
          "scattergeo": [
           {
            "marker": {
             "colorbar": {
              "outlinewidth": 0,
              "ticks": ""
             }
            },
            "type": "scattergeo"
           }
          ],
          "scattergl": [
           {
            "marker": {
             "colorbar": {
              "outlinewidth": 0,
              "ticks": ""
             }
            },
            "type": "scattergl"
           }
          ],
          "scattermapbox": [
           {
            "marker": {
             "colorbar": {
              "outlinewidth": 0,
              "ticks": ""
             }
            },
            "type": "scattermapbox"
           }
          ],
          "scatterpolar": [
           {
            "marker": {
             "colorbar": {
              "outlinewidth": 0,
              "ticks": ""
             }
            },
            "type": "scatterpolar"
           }
          ],
          "scatterpolargl": [
           {
            "marker": {
             "colorbar": {
              "outlinewidth": 0,
              "ticks": ""
             }
            },
            "type": "scatterpolargl"
           }
          ],
          "scatterternary": [
           {
            "marker": {
             "colorbar": {
              "outlinewidth": 0,
              "ticks": ""
             }
            },
            "type": "scatterternary"
           }
          ],
          "surface": [
           {
            "colorbar": {
             "outlinewidth": 0,
             "ticks": ""
            },
            "colorscale": [
             [
              0,
              "#0d0887"
             ],
             [
              0.1111111111111111,
              "#46039f"
             ],
             [
              0.2222222222222222,
              "#7201a8"
             ],
             [
              0.3333333333333333,
              "#9c179e"
             ],
             [
              0.4444444444444444,
              "#bd3786"
             ],
             [
              0.5555555555555556,
              "#d8576b"
             ],
             [
              0.6666666666666666,
              "#ed7953"
             ],
             [
              0.7777777777777778,
              "#fb9f3a"
             ],
             [
              0.8888888888888888,
              "#fdca26"
             ],
             [
              1,
              "#f0f921"
             ]
            ],
            "type": "surface"
           }
          ],
          "table": [
           {
            "cells": {
             "fill": {
              "color": "#EBF0F8"
             },
             "line": {
              "color": "white"
             }
            },
            "header": {
             "fill": {
              "color": "#C8D4E3"
             },
             "line": {
              "color": "white"
             }
            },
            "type": "table"
           }
          ]
         },
         "layout": {
          "annotationdefaults": {
           "arrowcolor": "#2a3f5f",
           "arrowhead": 0,
           "arrowwidth": 1
          },
          "colorscale": {
           "diverging": [
            [
             0,
             "#8e0152"
            ],
            [
             0.1,
             "#c51b7d"
            ],
            [
             0.2,
             "#de77ae"
            ],
            [
             0.3,
             "#f1b6da"
            ],
            [
             0.4,
             "#fde0ef"
            ],
            [
             0.5,
             "#f7f7f7"
            ],
            [
             0.6,
             "#e6f5d0"
            ],
            [
             0.7,
             "#b8e186"
            ],
            [
             0.8,
             "#7fbc41"
            ],
            [
             0.9,
             "#4d9221"
            ],
            [
             1,
             "#276419"
            ]
           ],
           "sequential": [
            [
             0,
             "#0d0887"
            ],
            [
             0.1111111111111111,
             "#46039f"
            ],
            [
             0.2222222222222222,
             "#7201a8"
            ],
            [
             0.3333333333333333,
             "#9c179e"
            ],
            [
             0.4444444444444444,
             "#bd3786"
            ],
            [
             0.5555555555555556,
             "#d8576b"
            ],
            [
             0.6666666666666666,
             "#ed7953"
            ],
            [
             0.7777777777777778,
             "#fb9f3a"
            ],
            [
             0.8888888888888888,
             "#fdca26"
            ],
            [
             1,
             "#f0f921"
            ]
           ],
           "sequentialminus": [
            [
             0,
             "#0d0887"
            ],
            [
             0.1111111111111111,
             "#46039f"
            ],
            [
             0.2222222222222222,
             "#7201a8"
            ],
            [
             0.3333333333333333,
             "#9c179e"
            ],
            [
             0.4444444444444444,
             "#bd3786"
            ],
            [
             0.5555555555555556,
             "#d8576b"
            ],
            [
             0.6666666666666666,
             "#ed7953"
            ],
            [
             0.7777777777777778,
             "#fb9f3a"
            ],
            [
             0.8888888888888888,
             "#fdca26"
            ],
            [
             1,
             "#f0f921"
            ]
           ]
          },
          "colorway": [
           "#636efa",
           "#EF553B",
           "#00cc96",
           "#ab63fa",
           "#FFA15A",
           "#19d3f3",
           "#FF6692",
           "#B6E880",
           "#FF97FF",
           "#FECB52"
          ],
          "font": {
           "color": "#2a3f5f"
          },
          "geo": {
           "bgcolor": "white",
           "lakecolor": "white",
           "landcolor": "#E5ECF6",
           "showlakes": true,
           "showland": true,
           "subunitcolor": "white"
          },
          "hoverlabel": {
           "align": "left"
          },
          "hovermode": "closest",
          "mapbox": {
           "style": "light"
          },
          "paper_bgcolor": "white",
          "plot_bgcolor": "#E5ECF6",
          "polar": {
           "angularaxis": {
            "gridcolor": "white",
            "linecolor": "white",
            "ticks": ""
           },
           "bgcolor": "#E5ECF6",
           "radialaxis": {
            "gridcolor": "white",
            "linecolor": "white",
            "ticks": ""
           }
          },
          "scene": {
           "xaxis": {
            "backgroundcolor": "#E5ECF6",
            "gridcolor": "white",
            "gridwidth": 2,
            "linecolor": "white",
            "showbackground": true,
            "ticks": "",
            "zerolinecolor": "white"
           },
           "yaxis": {
            "backgroundcolor": "#E5ECF6",
            "gridcolor": "white",
            "gridwidth": 2,
            "linecolor": "white",
            "showbackground": true,
            "ticks": "",
            "zerolinecolor": "white"
           },
           "zaxis": {
            "backgroundcolor": "#E5ECF6",
            "gridcolor": "white",
            "gridwidth": 2,
            "linecolor": "white",
            "showbackground": true,
            "ticks": "",
            "zerolinecolor": "white"
           }
          },
          "shapedefaults": {
           "line": {
            "color": "#2a3f5f"
           }
          },
          "ternary": {
           "aaxis": {
            "gridcolor": "white",
            "linecolor": "white",
            "ticks": ""
           },
           "baxis": {
            "gridcolor": "white",
            "linecolor": "white",
            "ticks": ""
           },
           "bgcolor": "#E5ECF6",
           "caxis": {
            "gridcolor": "white",
            "linecolor": "white",
            "ticks": ""
           }
          },
          "title": {
           "x": 0.05
          },
          "xaxis": {
           "automargin": true,
           "gridcolor": "white",
           "linecolor": "white",
           "ticks": "",
           "zerolinecolor": "white",
           "zerolinewidth": 2
          },
          "yaxis": {
           "automargin": true,
           "gridcolor": "white",
           "linecolor": "white",
           "ticks": "",
           "zerolinecolor": "white",
           "zerolinewidth": 2
          }
         }
        },
        "title": {
         "text": "Balance General entrenamiento"
        },
        "xaxis": {
         "title": {
          "text": "Fecha"
         }
        },
        "yaxis": {
         "title": {
          "text": "Capital"
         }
        }
       }
      },
      "text/html": [
       "<div>\n",
       "        \n",
       "        \n",
       "            <div id=\"e6850024-4935-4541-81f0-aea74d380cd9\" class=\"plotly-graph-div\" style=\"height:525px; width:100%;\"></div>\n",
       "            <script type=\"text/javascript\">\n",
       "                require([\"plotly\"], function(Plotly) {\n",
       "                    window.PLOTLYENV=window.PLOTLYENV || {};\n",
       "                    \n",
       "                if (document.getElementById(\"e6850024-4935-4541-81f0-aea74d380cd9\")) {\n",
       "                    Plotly.newPlot(\n",
       "                        'e6850024-4935-4541-81f0-aea74d380cd9',\n",
       "                        [{\"type\": \"scatter\", \"x\": [\"2009-05-06T09:00:00+00:00\", \"2009-06-04T09:00:00+00:00\", \"2009-07-03T09:00:00+00:00\", \"2009-08-05T09:00:00+00:00\", \"2009-09-03T09:00:00+00:00\", \"2009-10-05T09:00:00+00:00\", \"2009-11-05T10:00:00+00:00\", \"2009-12-03T10:00:00+00:00\", \"2010-01-07T10:00:00+00:00\", \"2010-02-03T10:00:00+00:00\", \"2010-03-03T10:00:00+00:00\", \"2010-04-08T09:00:00+00:00\", \"2010-05-05T09:00:00+00:00\", \"2010-06-03T09:00:00+00:00\", \"2010-07-05T09:00:00+00:00\", \"2010-08-04T09:00:00+00:00\", \"2010-09-03T09:00:00+00:00\", \"2010-10-05T09:00:00+00:00\", \"2010-11-05T10:00:00+00:00\", \"2010-12-03T10:00:00+00:00\", \"2011-01-06T10:00:00+00:00\", \"2011-02-03T10:00:00+00:00\", \"2011-03-03T10:00:00+00:00\", \"2011-04-05T09:00:00+00:00\", \"2011-05-04T09:00:00+00:00\", \"2011-06-07T09:00:00+00:00\", \"2011-07-05T09:00:00+00:00\", \"2011-08-03T09:00:00+00:00\", \"2011-09-05T09:00:00+00:00\", \"2011-10-05T09:00:00+00:00\", \"2011-11-07T10:00:00+00:00\", \"2011-12-05T10:00:00+00:00\", \"2012-01-06T10:00:00+00:00\", \"2012-02-03T10:00:00+00:00\", \"2012-03-05T10:00:00+00:00\", \"2012-04-04T09:00:00+00:00\", \"2012-05-04T09:00:00+00:00\", \"2012-06-05T09:00:00+00:00\", \"2012-07-04T09:00:00+00:00\", \"2012-08-03T09:00:00+00:00\", \"2012-09-05T09:00:00+00:00\", \"2012-10-03T09:00:00+00:00\", \"2012-11-07T10:00:00+00:00\", \"2012-12-05T10:00:00+00:00\", \"2013-01-08T10:00:00+00:00\", \"2013-02-05T10:00:00+00:00\", \"2013-03-05T10:00:00+00:00\", \"2013-04-05T09:00:00+00:00\", \"2013-05-06T09:00:00+00:00\", \"2013-06-05T09:00:00+00:00\", \"2013-07-03T09:00:00+00:00\", \"2013-08-05T09:00:00+00:00\", \"2013-09-04T09:00:00+00:00\", \"2013-10-03T09:00:00+00:00\", \"2013-11-06T10:00:00+00:00\", \"2013-12-04T10:00:00+00:00\", \"2014-01-08T10:00:00+00:00\", \"2014-02-05T10:00:00+00:00\", \"2014-03-05T10:00:00+00:00\", \"2014-04-03T09:00:00+00:00\", \"2014-05-06T09:00:00+00:00\", \"2014-06-05T09:00:00+00:00\", \"2014-07-03T09:00:00+00:00\", \"2014-08-05T09:00:00+00:00\", \"2014-09-03T09:00:00+00:00\", \"2014-10-03T09:00:00+00:00\", \"2014-11-05T10:00:00+00:00\", \"2014-12-03T10:00:00+00:00\", \"2015-01-08T10:00:00+00:00\", \"2015-02-04T10:00:00+00:00\", \"2015-03-04T10:00:00+00:00\", \"2015-04-08T09:00:00+00:00\", \"2015-05-06T09:00:00+00:00\", \"2015-06-03T09:00:00+00:00\", \"2015-07-03T09:00:00+00:00\", \"2015-08-05T09:00:00+00:00\", \"2015-09-03T09:00:00+00:00\", \"2015-10-05T09:00:00+00:00\", \"2015-11-05T10:00:00+00:00\", \"2015-12-03T10:00:00+00:00\", \"2016-01-07T10:00:00+00:00\", \"2016-02-03T10:00:00+00:00\", \"2016-03-03T10:00:00+00:00\", \"2016-04-05T09:00:00+00:00\", \"2016-05-04T09:00:00+00:00\", \"2016-06-03T09:00:00+00:00\", \"2016-07-05T09:00:00+00:00\", \"2016-08-03T09:00:00+00:00\", \"2016-09-05T09:00:00+00:00\", \"2016-10-05T09:00:00+00:00\", \"2016-11-07T10:00:00+00:00\", \"2016-12-05T10:00:00+00:00\", \"2017-01-06T10:00:00+00:00\", \"2017-02-03T10:00:00+00:00\", \"2017-03-03T10:00:00+00:00\", \"2017-04-04T09:00:00+00:00\", \"2017-05-04T09:00:00+00:00\", \"2017-06-06T09:00:00+00:00\", \"2017-07-05T09:00:00+00:00\", \"2017-08-03T09:00:00+00:00\", \"2017-09-05T09:00:00+00:00\", \"2017-10-04T09:00:00+00:00\", \"2017-11-07T10:00:00+00:00\"], \"y\": [101023.35480550014, 101023.35480550014, 101023.35480550014, 101023.35480550014, 101023.35480550014, 101023.35480550014, 101023.35480550014, 101023.35480550014, 101023.35480550014, 101023.35480550014, 101023.35480550014, 101023.35480550014, 101023.35480550014, 101023.35480550014, 101023.35480550014, 101023.35480550014, 101023.35480550014, 101023.35480550014, 100023.3545702501, 101046.70937575024, 102070.06418125039, 102070.06418125039, 102070.06418125039, 102070.06418125039, 102070.06418125039, 102070.06418125039, 101407.64408525036, 102407.64411650036, 102407.64411650036, 102407.64411650036, 101745.22402050033, 101745.22402050033, 101745.22402050033, 101745.22402050033, 102745.22405175034, 102745.22405175034, 102745.22405175034, 102745.22405175034, 102745.22405175034, 102745.22405175034, 102745.22405175034, 103745.22408300034, 103745.22408300034, 103745.22408300034, 103745.22408300034, 103082.80398700031, 103082.80398700031, 103082.80398700031, 103082.80398700031, 103082.80398700031, 103082.80398700031, 103082.80398700031, 103082.80398700031, 103082.80398700031, 103082.80398700031, 103082.80398700031, 103082.80398700031, 102420.38389100028, 102420.38389100028, 102420.38389100028, 102420.38389100028, 102420.38389100028, 102420.38389100028, 102420.38389100028, 102420.38389100028, 102420.38389100028, 102420.38389100028, 102420.38389100028, 102420.38389100028, 102420.38389100028, 102420.38389100028, 102420.38389100028, 101757.96379500025, 101757.96379500025, 101757.96379500025, 101757.96379500025, 101757.96379500025, 101757.96379500025, 101757.96379500025, 101757.96379500025, 101757.96379500025, 101757.96379500025, 101757.96379500025, 101757.96379500025, 101757.96379500025, 101757.96379500025, 101757.96379500025, 101757.96379500025, 101757.96379500025, 101757.96379500025, 101757.96379500025, 101757.96379500025, 101757.96379500025, 101757.96379500025, 101757.96379500025, 101757.96379500025, 101757.96379500025, 101757.96379500025, 101757.96379500025, 101757.96379500025, 101757.96379500025, 101757.96379500025, 101757.96379500025]}],\n",
       "                        {\"template\": {\"data\": {\"bar\": [{\"error_x\": {\"color\": \"#2a3f5f\"}, \"error_y\": {\"color\": \"#2a3f5f\"}, \"marker\": {\"line\": {\"color\": \"#E5ECF6\", \"width\": 0.5}}, \"type\": \"bar\"}], \"barpolar\": [{\"marker\": {\"line\": {\"color\": \"#E5ECF6\", \"width\": 0.5}}, \"type\": \"barpolar\"}], \"carpet\": [{\"aaxis\": {\"endlinecolor\": \"#2a3f5f\", \"gridcolor\": \"white\", \"linecolor\": \"white\", \"minorgridcolor\": \"white\", \"startlinecolor\": \"#2a3f5f\"}, \"baxis\": {\"endlinecolor\": \"#2a3f5f\", \"gridcolor\": \"white\", \"linecolor\": \"white\", \"minorgridcolor\": \"white\", \"startlinecolor\": \"#2a3f5f\"}, \"type\": \"carpet\"}], \"choropleth\": [{\"colorbar\": {\"outlinewidth\": 0, \"ticks\": \"\"}, \"type\": \"choropleth\"}], \"contour\": [{\"colorbar\": {\"outlinewidth\": 0, \"ticks\": \"\"}, \"colorscale\": [[0.0, \"#0d0887\"], [0.1111111111111111, \"#46039f\"], [0.2222222222222222, \"#7201a8\"], [0.3333333333333333, \"#9c179e\"], [0.4444444444444444, \"#bd3786\"], [0.5555555555555556, \"#d8576b\"], [0.6666666666666666, \"#ed7953\"], [0.7777777777777778, \"#fb9f3a\"], [0.8888888888888888, \"#fdca26\"], [1.0, \"#f0f921\"]], \"type\": \"contour\"}], \"contourcarpet\": [{\"colorbar\": {\"outlinewidth\": 0, \"ticks\": \"\"}, \"type\": \"contourcarpet\"}], \"heatmap\": [{\"colorbar\": {\"outlinewidth\": 0, \"ticks\": \"\"}, \"colorscale\": [[0.0, \"#0d0887\"], [0.1111111111111111, \"#46039f\"], [0.2222222222222222, \"#7201a8\"], [0.3333333333333333, \"#9c179e\"], [0.4444444444444444, \"#bd3786\"], [0.5555555555555556, \"#d8576b\"], [0.6666666666666666, \"#ed7953\"], [0.7777777777777778, \"#fb9f3a\"], [0.8888888888888888, \"#fdca26\"], [1.0, \"#f0f921\"]], \"type\": \"heatmap\"}], \"heatmapgl\": [{\"colorbar\": {\"outlinewidth\": 0, \"ticks\": \"\"}, \"colorscale\": [[0.0, \"#0d0887\"], [0.1111111111111111, \"#46039f\"], [0.2222222222222222, \"#7201a8\"], [0.3333333333333333, \"#9c179e\"], [0.4444444444444444, \"#bd3786\"], [0.5555555555555556, \"#d8576b\"], [0.6666666666666666, \"#ed7953\"], [0.7777777777777778, \"#fb9f3a\"], [0.8888888888888888, \"#fdca26\"], [1.0, \"#f0f921\"]], \"type\": \"heatmapgl\"}], \"histogram\": [{\"marker\": {\"colorbar\": {\"outlinewidth\": 0, \"ticks\": \"\"}}, \"type\": \"histogram\"}], \"histogram2d\": [{\"colorbar\": {\"outlinewidth\": 0, \"ticks\": \"\"}, \"colorscale\": [[0.0, \"#0d0887\"], [0.1111111111111111, \"#46039f\"], [0.2222222222222222, \"#7201a8\"], [0.3333333333333333, \"#9c179e\"], [0.4444444444444444, \"#bd3786\"], [0.5555555555555556, \"#d8576b\"], [0.6666666666666666, \"#ed7953\"], [0.7777777777777778, \"#fb9f3a\"], [0.8888888888888888, \"#fdca26\"], [1.0, \"#f0f921\"]], \"type\": \"histogram2d\"}], \"histogram2dcontour\": [{\"colorbar\": {\"outlinewidth\": 0, \"ticks\": \"\"}, \"colorscale\": [[0.0, \"#0d0887\"], [0.1111111111111111, \"#46039f\"], [0.2222222222222222, \"#7201a8\"], [0.3333333333333333, \"#9c179e\"], [0.4444444444444444, \"#bd3786\"], [0.5555555555555556, \"#d8576b\"], [0.6666666666666666, \"#ed7953\"], [0.7777777777777778, \"#fb9f3a\"], [0.8888888888888888, \"#fdca26\"], [1.0, \"#f0f921\"]], \"type\": \"histogram2dcontour\"}], \"mesh3d\": [{\"colorbar\": {\"outlinewidth\": 0, \"ticks\": \"\"}, \"type\": \"mesh3d\"}], \"parcoords\": [{\"line\": {\"colorbar\": {\"outlinewidth\": 0, \"ticks\": \"\"}}, \"type\": \"parcoords\"}], \"scatter\": [{\"marker\": {\"colorbar\": {\"outlinewidth\": 0, \"ticks\": \"\"}}, \"type\": \"scatter\"}], \"scatter3d\": [{\"line\": {\"colorbar\": {\"outlinewidth\": 0, \"ticks\": \"\"}}, \"marker\": {\"colorbar\": {\"outlinewidth\": 0, \"ticks\": \"\"}}, \"type\": \"scatter3d\"}], \"scattercarpet\": [{\"marker\": {\"colorbar\": {\"outlinewidth\": 0, \"ticks\": \"\"}}, \"type\": \"scattercarpet\"}], \"scattergeo\": [{\"marker\": {\"colorbar\": {\"outlinewidth\": 0, \"ticks\": \"\"}}, \"type\": \"scattergeo\"}], \"scattergl\": [{\"marker\": {\"colorbar\": {\"outlinewidth\": 0, \"ticks\": \"\"}}, \"type\": \"scattergl\"}], \"scattermapbox\": [{\"marker\": {\"colorbar\": {\"outlinewidth\": 0, \"ticks\": \"\"}}, \"type\": \"scattermapbox\"}], \"scatterpolar\": [{\"marker\": {\"colorbar\": {\"outlinewidth\": 0, \"ticks\": \"\"}}, \"type\": \"scatterpolar\"}], \"scatterpolargl\": [{\"marker\": {\"colorbar\": {\"outlinewidth\": 0, \"ticks\": \"\"}}, \"type\": \"scatterpolargl\"}], \"scatterternary\": [{\"marker\": {\"colorbar\": {\"outlinewidth\": 0, \"ticks\": \"\"}}, \"type\": \"scatterternary\"}], \"surface\": [{\"colorbar\": {\"outlinewidth\": 0, \"ticks\": \"\"}, \"colorscale\": [[0.0, \"#0d0887\"], [0.1111111111111111, \"#46039f\"], [0.2222222222222222, \"#7201a8\"], [0.3333333333333333, \"#9c179e\"], [0.4444444444444444, \"#bd3786\"], [0.5555555555555556, \"#d8576b\"], [0.6666666666666666, \"#ed7953\"], [0.7777777777777778, \"#fb9f3a\"], [0.8888888888888888, \"#fdca26\"], [1.0, \"#f0f921\"]], \"type\": \"surface\"}], \"table\": [{\"cells\": {\"fill\": {\"color\": \"#EBF0F8\"}, \"line\": {\"color\": \"white\"}}, \"header\": {\"fill\": {\"color\": \"#C8D4E3\"}, \"line\": {\"color\": \"white\"}}, \"type\": \"table\"}]}, \"layout\": {\"annotationdefaults\": {\"arrowcolor\": \"#2a3f5f\", \"arrowhead\": 0, \"arrowwidth\": 1}, \"colorscale\": {\"diverging\": [[0, \"#8e0152\"], [0.1, \"#c51b7d\"], [0.2, \"#de77ae\"], [0.3, \"#f1b6da\"], [0.4, \"#fde0ef\"], [0.5, \"#f7f7f7\"], [0.6, \"#e6f5d0\"], [0.7, \"#b8e186\"], [0.8, \"#7fbc41\"], [0.9, \"#4d9221\"], [1, \"#276419\"]], \"sequential\": [[0.0, \"#0d0887\"], [0.1111111111111111, \"#46039f\"], [0.2222222222222222, \"#7201a8\"], [0.3333333333333333, \"#9c179e\"], [0.4444444444444444, \"#bd3786\"], [0.5555555555555556, \"#d8576b\"], [0.6666666666666666, \"#ed7953\"], [0.7777777777777778, \"#fb9f3a\"], [0.8888888888888888, \"#fdca26\"], [1.0, \"#f0f921\"]], \"sequentialminus\": [[0.0, \"#0d0887\"], [0.1111111111111111, \"#46039f\"], [0.2222222222222222, \"#7201a8\"], [0.3333333333333333, \"#9c179e\"], [0.4444444444444444, \"#bd3786\"], [0.5555555555555556, \"#d8576b\"], [0.6666666666666666, \"#ed7953\"], [0.7777777777777778, \"#fb9f3a\"], [0.8888888888888888, \"#fdca26\"], [1.0, \"#f0f921\"]]}, \"colorway\": [\"#636efa\", \"#EF553B\", \"#00cc96\", \"#ab63fa\", \"#FFA15A\", \"#19d3f3\", \"#FF6692\", \"#B6E880\", \"#FF97FF\", \"#FECB52\"], \"font\": {\"color\": \"#2a3f5f\"}, \"geo\": {\"bgcolor\": \"white\", \"lakecolor\": \"white\", \"landcolor\": \"#E5ECF6\", \"showlakes\": true, \"showland\": true, \"subunitcolor\": \"white\"}, \"hoverlabel\": {\"align\": \"left\"}, \"hovermode\": \"closest\", \"mapbox\": {\"style\": \"light\"}, \"paper_bgcolor\": \"white\", \"plot_bgcolor\": \"#E5ECF6\", \"polar\": {\"angularaxis\": {\"gridcolor\": \"white\", \"linecolor\": \"white\", \"ticks\": \"\"}, \"bgcolor\": \"#E5ECF6\", \"radialaxis\": {\"gridcolor\": \"white\", \"linecolor\": \"white\", \"ticks\": \"\"}}, \"scene\": {\"xaxis\": {\"backgroundcolor\": \"#E5ECF6\", \"gridcolor\": \"white\", \"gridwidth\": 2, \"linecolor\": \"white\", \"showbackground\": true, \"ticks\": \"\", \"zerolinecolor\": \"white\"}, \"yaxis\": {\"backgroundcolor\": \"#E5ECF6\", \"gridcolor\": \"white\", \"gridwidth\": 2, \"linecolor\": \"white\", \"showbackground\": true, \"ticks\": \"\", \"zerolinecolor\": \"white\"}, \"zaxis\": {\"backgroundcolor\": \"#E5ECF6\", \"gridcolor\": \"white\", \"gridwidth\": 2, \"linecolor\": \"white\", \"showbackground\": true, \"ticks\": \"\", \"zerolinecolor\": \"white\"}}, \"shapedefaults\": {\"line\": {\"color\": \"#2a3f5f\"}}, \"ternary\": {\"aaxis\": {\"gridcolor\": \"white\", \"linecolor\": \"white\", \"ticks\": \"\"}, \"baxis\": {\"gridcolor\": \"white\", \"linecolor\": \"white\", \"ticks\": \"\"}, \"bgcolor\": \"#E5ECF6\", \"caxis\": {\"gridcolor\": \"white\", \"linecolor\": \"white\", \"ticks\": \"\"}}, \"title\": {\"x\": 0.05}, \"xaxis\": {\"automargin\": true, \"gridcolor\": \"white\", \"linecolor\": \"white\", \"ticks\": \"\", \"zerolinecolor\": \"white\", \"zerolinewidth\": 2}, \"yaxis\": {\"automargin\": true, \"gridcolor\": \"white\", \"linecolor\": \"white\", \"ticks\": \"\", \"zerolinecolor\": \"white\", \"zerolinewidth\": 2}}}, \"title\": {\"text\": \"Balance General entrenamiento\"}, \"xaxis\": {\"title\": {\"text\": \"Fecha\"}}, \"yaxis\": {\"title\": {\"text\": \"Capital\"}}},\n",
       "                        {\"responsive\": true}\n",
       "                    ).then(function(){\n",
       "                            \n",
       "var gd = document.getElementById('e6850024-4935-4541-81f0-aea74d380cd9');\n",
       "var x = new MutationObserver(function (mutations, observer) {{\n",
       "        var display = window.getComputedStyle(gd).display;\n",
       "        if (!display || display === 'none') {{\n",
       "            console.log([gd, 'removed!']);\n",
       "            Plotly.purge(gd);\n",
       "            observer.disconnect();\n",
       "        }}\n",
       "}});\n",
       "\n",
       "// Listen for the removal of the full notebook cells\n",
       "var notebookContainer = gd.closest('#notebook-container');\n",
       "if (notebookContainer) {{\n",
       "    x.observe(notebookContainer, {childList: true});\n",
       "}}\n",
       "\n",
       "// Listen for the clearing of the current output cell\n",
       "var outputEl = gd.closest('.output');\n",
       "if (outputEl) {{\n",
       "    x.observe(outputEl, {childList: true});\n",
       "}}\n",
       "\n",
       "                        })\n",
       "                };\n",
       "                });\n",
       "            </script>\n",
       "        </div>"
      ]
     },
     "metadata": {},
     "output_type": "display_data"
    }
   ],
   "source": [
    "fig=go.Figure()\n",
    "fig.add_trace(go.Scatter(x=df_backtestentrenamiento[\"timestamp\"], y=df_backtestentrenamiento[\"balance final\"]))\n",
    "fig.update_layout(title='Balance General entrenamiento',\n",
    "                   xaxis_title='Fecha',\n",
    "                   yaxis_title='Capital')"
   ]
  },
  {
   "cell_type": "code",
   "execution_count": null,
   "metadata": {},
   "outputs": [],
   "source": []
  }
 ],
 "metadata": {
  "kernelspec": {
   "display_name": "Python 3",
   "language": "python",
   "name": "python3"
  },
  "language_info": {
   "codemirror_mode": {
    "name": "ipython",
    "version": 3
   },
   "file_extension": ".py",
   "mimetype": "text/x-python",
   "name": "python",
   "nbconvert_exporter": "python",
   "pygments_lexer": "ipython3",
   "version": "3.6.4"
  }
 },
 "nbformat": 4,
 "nbformat_minor": 2
}
