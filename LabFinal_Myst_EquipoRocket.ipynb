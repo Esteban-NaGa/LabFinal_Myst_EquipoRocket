{
 "cells": [
  {
   "cell_type": "markdown",
   "metadata": {},
   "source": [
    "## Laboratorio Final - Equipo Rocket"
   ]
  },
  {
   "cell_type": "code",
   "execution_count": 1,
   "metadata": {},
   "outputs": [],
   "source": [
    "import numpy as np\n",
    "import pandas as pd\n",
    "import plotly.graph_objs as go\n",
    "from plotly.subplots import make_subplots\n",
    "from plotly.offline import download_plotlyjs, init_notebook_mode, plot, iplot\n",
    "import plotly.offline as py\n",
    "from collections import Counter\n",
    "import matplotlib.pyplot as plt\n",
    "import plotly.graph_objects as go\n",
    "from plotly.subplots import make_subplots\n",
    "import datetime as dt\n",
    "import warnings\n",
    "warnings.filterwarnings(\"ignore\")\n",
    "from collections import Counter"
   ]
  },
  {
   "cell_type": "code",
   "execution_count": null,
   "metadata": {},
   "outputs": [],
   "source": [
    "#Cargamos los datos, y eliminamos los que no tienen valor\n",
    "df = pd.read_csv(\"calendario_economico.csv\") \n",
    "df.dropna(inplace = True)"
   ]
  },
  {
   "cell_type": "code",
   "execution_count": null,
   "metadata": {},
   "outputs": [],
   "source": [
    "data2=df.loc[df['Name'] == 'Retail Sales (MoM)']\n",
    "RetailSales=data2.loc[df['Country'] == 'European Monetary Union']\n",
    "RetailSales=RetailSales.reset_index(drop=True)"
   ]
  },
  {
   "cell_type": "code",
   "execution_count": null,
   "metadata": {},
   "outputs": [],
   "source": [
    "RetailSales['timestamp']=pd.to_datetime(RetailSales['timestamp'])\n",
    "RetailSales['timestamp']=RetailSales['timestamp'].dt.tz_localize('UTC')"
   ]
  },
  {
   "cell_type": "code",
   "execution_count": null,
   "metadata": {},
   "outputs": [],
   "source": [
    "#definimos escenarios por restricciones\n",
    "def escenario(x):\n",
    "    x['escenario']= x['actual']\n",
    "    for i in range(len(x)):\n",
    "        if x['actual'][i] >= x['consensus'][i] >= x['previous'][i]:\n",
    "            x['escenario'][i] = \"A\"\n",
    "        elif x['actual'][i] >= x['consensus'][i] < x['previous'][i]:\n",
    "            x['escenario'][i]=\"B\"\n",
    "        elif x['actual'][i] < x['consensus'][i] >= x['previous'][i]:\n",
    "            x['escenario'][i]=\"C\"\n",
    "        elif x['actual'][i] < x['consensus'][i] < x['previous'][i]:\n",
    "            x['escenario'][i]=\"D\"\n",
    "    return x\n",
    "    "
   ]
  },
  {
   "cell_type": "code",
   "execution_count": null,
   "metadata": {},
   "outputs": [],
   "source": [
    "# utilizamos la función escenario para obtener cada comunicado del indicador económico si es A, B, C ó D dependiendo del actual,\n",
    "# previous y consensus.\n",
    "RS=escenario(RetailSales)"
   ]
  },
  {
   "cell_type": "code",
   "execution_count": null,
   "metadata": {},
   "outputs": [],
   "source": [
    "# Cargamos los datos de los precios del Euro-Dolar\n",
    "df = pd.read_csv(\"precios_historicos_eurusd.csv\") \n",
    "df['timestamp']=pd.to_datetime(df['timestamp'])\n",
    "df['timestamp']=df['timestamp'].dt.tz_localize('UTC')"
   ]
  },
  {
   "cell_type": "code",
   "execution_count": null,
   "metadata": {},
   "outputs": [],
   "source": [
    "# Checando valores en precios EUR/USD con misma hora que nuestro calendario económico\n",
    "# Data frame con los valores que coinciden las horas\n",
    "comparacionRS=df[df.timestamp.isin(RS.timestamp)]"
   ]
  },
  {
   "cell_type": "code",
   "execution_count": null,
   "metadata": {},
   "outputs": [],
   "source": [
    "# Utilizamos compresión de listas para sacar un DataFrame de los indicadores para hacer match entre los comunicados del\n",
    "# indicador y los precios\n",
    "#Se busca desde la fecha y hora del indicador agarrar los precios de 30 minutos antes y 30 minutos despues (mas menos 6 periodos)\n",
    "periodosRS = [df.iloc[i-6:i+7]for i in comparacionRS.index]"
   ]
  },
  {
   "cell_type": "code",
   "execution_count": null,
   "metadata": {},
   "outputs": [],
   "source": [
    "# Con esta función se saca dirección, pips alcistas, pips bajistas y volatilidad de los precios de cada comunicado del indicador\n",
    "# Se le mete el DataFrame de los comunicados de nuestro indicador y el match de los precios con el indicador\n",
    "def finalDF(DataFrame,periodos):\n",
    "\n",
    "    DataFrame['direccion']= DataFrame['actual']\n",
    "    DataFrame['pips alcistas']=DataFrame['actual']\n",
    "    DataFrame['pips bajistas']= DataFrame['actual']\n",
    "    DataFrame['volatilidad']=DataFrame['actual']\n",
    "\n",
    "    for i in range(len(DataFrame)):\n",
    "\n",
    "        DataFrame['direccion'][i] = periodos[i][\"close\"].iloc[-1] - periodos[i][\"open\"].iloc[6]\n",
    "        DataFrame['pips alcistas'][i] = periodos[i][\"high\"].iloc[6:-1].max() - periodos[i][\"open\"].iloc[0]\n",
    "        DataFrame['pips bajistas'][i] = periodos[i][\"open\"].iloc[0] - periodos[i][\"low\"].iloc[6:-1].min()\n",
    "        DataFrame['volatilidad'][i] = periodos[i][\"high\"].max()-periodos[i][\"low\"].min()\n",
    "    return DataFrame\n",
    "\n",
    "\n"
   ]
  },
  {
   "cell_type": "code",
   "execution_count": null,
   "metadata": {},
   "outputs": [],
   "source": [
    "# utilizamos la funcion finalDF() para obtener nuestro DataFrame final en retail sales.\n",
    "FinalDFRS = finalDF(RS,periodosRS)\n",
    "FinalDFRS"
   ]
  },
  {
   "cell_type": "code",
   "execution_count": null,
   "metadata": {},
   "outputs": [],
   "source": [
    "#Usamos la funcion Counter para contar cuantas veces se repiten las palabras\n",
    "newcounter = Counter(FinalDFRS['escenario'])\n",
    "escenariosRS = pd.DataFrame.from_dict(newcounter, orient='index').reset_index()\n",
    "escenariosRS.columns = ['escenario', 'cantidad']\n",
    "escenariosRS\n",
    "###----------------cuantos escenarios hubo en cada uno A B C y D (RS)-------------------------"
   ]
  },
  {
   "cell_type": "code",
   "execution_count": null,
   "metadata": {},
   "outputs": [],
   "source": [
    "# Sacando cuales informes pertenecen dependiendo de escenario A, B, y C para checar comportamiento\n",
    "def getescenario(DF):\n",
    "    escA=DF[DF.escenario.isin([\"A\"])]\n",
    "    escB=DF[DF.escenario.isin([\"B\"])]\n",
    "    escC=DF[DF.escenario.isin([\"C\"])]\n",
    "    escD=DF[DF.escenario.isin([\"D\"])]\n",
    "    return escA,escB,escC,escD\n",
    "\n"
   ]
  },
  {
   "cell_type": "code",
   "execution_count": null,
   "metadata": {},
   "outputs": [],
   "source": [
    "#para sacar el escenario \"A\"=RSescenarios[0]\n",
    "#para sacar el escenario B =RSescenarios[1]\n",
    "#para sacar el escenario C =RSescenarios[2]\n",
    "#para sacar el escenario D =RSescenarios[3]\n",
    "RSescenarios=getescenario(FinalDFRS)"
   ]
  }
 ],
 "metadata": {
  "kernelspec": {
   "display_name": "Python 3",
   "language": "python",
   "name": "python3"
  },
  "language_info": {
   "codemirror_mode": {
    "name": "ipython",
    "version": 3
   },
   "file_extension": ".py",
   "mimetype": "text/x-python",
   "name": "python",
   "nbconvert_exporter": "python",
   "pygments_lexer": "ipython3",
   "version": "3.7.4"
  }
 },
 "nbformat": 4,
 "nbformat_minor": 2
}
